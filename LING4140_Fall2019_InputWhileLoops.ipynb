{
  "nbformat": 4,
  "nbformat_minor": 0,
  "metadata": {
    "colab": {
      "name": "LING4140_Fall2019_InputWhileLoops.ipynb",
      "provenance": [],
      "collapsed_sections": [],
      "include_colab_link": true
    },
    "kernelspec": {
      "name": "python3",
      "display_name": "Python 3"
    }
  },
  "cells": [
    {
      "cell_type": "markdown",
      "metadata": {
        "id": "view-in-github",
        "colab_type": "text"
      },
      "source": [
        "<a href=\"https://colab.research.google.com/github/meghanrenshaw/everproject/blob/master/LING4140_Fall2019_InputWhileLoops.ipynb\" target=\"_parent\"><img src=\"https://colab.research.google.com/assets/colab-badge.svg\" alt=\"Open In Colab\"/></a>"
      ]
    },
    {
      "cell_type": "markdown",
      "metadata": {
        "id": "UvjRqpsK5zKZ",
        "colab_type": "text"
      },
      "source": [
        "#LING 4140:\tComputational\tLinguistics -\tFall\t2019\n",
        "\n",
        "\n",
        "---\n",
        "\n",
        "Getting user\tinput and using\twhile\tloops\n",
        "\n",
        "Adapted\tfrom\tmaterials\tby:\tKatrin\tErk,\tUT\tAustin;\tAndrew\tN.\tHarrington,\tLoyola\tUniversity\tChicago\n",
        "\n",
        "\n",
        "\n",
        "\n",
        "## **1.   Getting\tinput\tfrom\ta\tuser**\n",
        "  \n",
        "To\tget\tinput\tfrom\tthe\tuser,\tuse\tPython's\tbuilt-in\tinput function\t– in\tthe\texample\tbelow,\ta\tprompt\tis\tdisplayed\tto\tthe\tuser,\twho\ttypes\tin\this\tname\t(Haj\tRoss)\t\tand\tthen\thits\tenter.\tWhatever\tthe\tuser\ttypes\tin\tafter\tthe\tprompt\twill\tbe\tstored\tas\tthe\tvalue\tof\tthe\tvariable\tname.\n",
        "    \n",
        "    \n",
        "    \n",
        "\n",
        "```\n",
        "name = input(\"Hi what's your name? \")\n",
        "Hi what's your name? Haj Ross\n",
        "print(\"Welcome to the computer lab\", name+\"!\")\n",
        "Welcome to the computer lab Haj Ross!\n",
        "```\n",
        "\n",
        "Now try it yourself, below:\n",
        "\n",
        "\n",
        "\n",
        "\n"
      ]
    },
    {
      "cell_type": "code",
      "metadata": {
        "id": "CIsnGl6B5p2e",
        "colab_type": "code",
        "outputId": "13ad0252-6eb1-461e-ebb5-ed30c0dd64bc",
        "colab": {
          "base_uri": "https://localhost:8080/",
          "height": 51
        }
      },
      "source": [
        "name = input(\"Hi, what's your name? \")\n",
        "print(\"Welcome to the computer lab\", name+\"!\")"
      ],
      "execution_count": 0,
      "outputs": [
        {
          "output_type": "stream",
          "text": [
            "Hi, what's your name? Jane\n",
            "Welcome to the computer lab Jane!\n"
          ],
          "name": "stdout"
        }
      ]
    },
    {
      "cell_type": "markdown",
      "metadata": {
        "id": "FSLLbs_G60Dp",
        "colab_type": "text"
      },
      "source": [
        "Now\twe\twant\tto\tdo\tthe\tsame\tthing,\tbut\twith a few changes.\n",
        "1. Write\tthe\tsame\ttwo\tlines\tof\tcode\tyou\tsee\tabove\tin the code block\tinto your own code block.\t\n",
        "2. Add\tto\tyour\tprogram\tso\tthat, after asking the user for their name,\tit asks the\tuser\tfor\ta\tcomplete\tsentence,\tthen\tsplits the\tsentence\tand\tprints the\tsplit version\tout\tfor\tthe\tuser.\tAlso\ttell\tthe\tuser\tthe\tnumber\tof\twords in\ttheir\tsentence.\n",
        "3. Run\tyour\tnew\tprogram.\n",
        "4. Once you have done so, check in with us!"
      ]
    },
    {
      "cell_type": "code",
      "metadata": {
        "id": "UuMaQvUgXYrv",
        "colab_type": "code",
        "colab": {}
      },
      "source": [
        ""
      ],
      "execution_count": 0,
      "outputs": []
    },
    {
      "cell_type": "code",
      "metadata": {
        "id": "QqpzkANz7L5f",
        "colab_type": "code",
        "cellView": "form",
        "colab": {}
      },
      "source": [
        "#@title\n",
        "sent = input(name.title()+\", type in an interesting sentence for me: \")\n",
        "sent = sent.split()\n",
        "print(sent)\n",
        "print(\"Your sentence is \"+str(len(sent))+\" words long. Check you out!\")"
      ],
      "execution_count": 0,
      "outputs": []
    },
    {
      "cell_type": "markdown",
      "metadata": {
        "id": "9BFWBqfK7Zum",
        "colab_type": "text"
      },
      "source": [
        "\n",
        "\n",
        "---\n",
        "\n",
        "## **2. Simple\twhile\tloops**\n",
        "\n",
        "while\tloops\tare\tanother\tway\tto\tmanage\titeration.\tWhen\twe\tuse\ta\t`for`\tloop,\tPython\texecutes\tthe\tcode\tin\tthe\tcode\tblock\tonce\tfor\teach\telement\tin\tthe\tsequence\t(usually\ta\tlist\tor\ta\tstring)\tthat\twe\thave\tspecified.\tA\twhile\tloop\tis\tless\trestrictive.\tThe\tPython\twhile\tloop\tis\tsomewhat similar\tto\tthe\tmeaning\tof\twhile\tin\tEnglish.\tConsider\tthis\texample\tfrom\thttp://anh.cs.luc.edu/handsonPythonTutorial/whilestatements.html:\n",
        "********************************\n",
        "\n",
        "If I say:\n",
        "*While your tea is too hot, add a chip of ice.*\n",
        "\n",
        "Presumably you would test your tea. If it were too hot, you would add a little ice. If you test again and it is still too hot, you would add ice again. As long as you tested and found it was true that your tea was too hot, you would go back and add more ice. \n",
        "\n",
        "**Python has a similar syntax:**\n",
        "\n",
        "\n",
        "\n",
        "```\n",
        "while condition :\n",
        "  indentedBlock\n",
        "```\n",
        "\n",
        "Setting up the English example in a similar format would be:\n",
        "\n",
        "\n",
        "```\n",
        "while your tea is too hot :\n",
        "  add a chip of ice\n",
        "```\n",
        "\n",
        "To make things concrete and numerical, suppose the following: The tea starts at 115 degrees\n",
        "Fahrenheit. You want it at 112 degrees. A chip of ice turns out to lower the temperature one degree\n",
        "each time. You test the temperature each time, and also print out the temperature before reducing the\n",
        "temperature. In Python you could write and run the code below:"
      ]
    },
    {
      "cell_type": "code",
      "metadata": {
        "id": "Lj5JvLsl79GF",
        "colab_type": "code",
        "outputId": "08a67e68-3447-412d-8161-6467e237a90c",
        "colab": {
          "base_uri": "https://localhost:8080/",
          "height": 137
        }
      },
      "source": [
        "temperature = 115\n",
        "\n",
        "while temperature > 112:\n",
        "  print(temperature)\n",
        "  temperature = temperature - 1  ### temperature -= 1\n",
        "  print(\"let's do something else here\")\n",
        "  \n",
        "print(\"The tea is cool enough.\")"
      ],
      "execution_count": 0,
      "outputs": [
        {
          "output_type": "stream",
          "text": [
            "115\n",
            "let's do something else here\n",
            "114\n",
            "let's do something else here\n",
            "113\n",
            "let's do something else here\n",
            "The tea is cool enough.\n"
          ],
          "name": "stdout"
        }
      ]
    },
    {
      "cell_type": "markdown",
      "metadata": {
        "id": "lery7Knt8NlG",
        "colab_type": "text"
      },
      "source": [
        "I added a final line after the while loop to remind you that execution follows sequentially after a loop completes.\n",
        "\n",
        "********************************\n",
        "\n",
        "There\tis\ta\tslight\tdifference\tbetween\tPython's\tuse\tof\twhile\tand\tthe\tmeaning\tof\twhile\tin\tEnglish. In\tEnglish\twe\tusually\tmean\t that\twe\twould\t stop\t immediately\tas\t soon\tas\t the\t condition\twe're\t testing\t for\tbecomes\t false.\tIn\tPython,\tthe\tcondition\tis\ttested\tonly\tat\tthe\tbeginning\tof\tthe\tloop,\tnot\tin\tthe\tmiddle\tof\tthe\tloop.\tSo\teven\tif\tthe\tvalue\t for\t the\t condition\t changes\tin\t the\tmiddle\t of\t the\t code\t block,\t Python\twon't\t check\tit\tagain\t until\t the\t next\t\n",
        "iteration\tof\tthe loop\tbegins.\n",
        "\n",
        "\n",
        "###Try\tit\tyourself:\n",
        "Look\tat\t the\t following\tblock\tof\tcode\t– what\twould\tbe\tprinted\tout\tif\tyou\t ran\t this\tblock\tof code?\tWrite\tdown\tyour\tanswer."
      ]
    },
    {
      "cell_type": "code",
      "metadata": {
        "id": "gSL0KmCB8asl",
        "colab_type": "code",
        "outputId": "3d98787d-8a53-4e81-90f8-1bed08a0afcf",
        "colab": {
          "base_uri": "https://localhost:8080/",
          "height": 68
        }
      },
      "source": [
        "i = 4\n",
        "\n",
        "while (i < 9):\n",
        "  i = i+2\n",
        "  print(i)"
      ],
      "execution_count": 0,
      "outputs": [
        {
          "output_type": "stream",
          "text": [
            "6\n",
            "8\n",
            "10\n"
          ],
          "name": "stdout"
        }
      ]
    },
    {
      "cell_type": "markdown",
      "metadata": {
        "id": "i2nZG2e18km1",
        "colab_type": "text"
      },
      "source": [
        "Now\ttry\trunning\tthe code\tand\tcheck\tyour\tanswer\t– did\tyou\tget\tit\tright?\n",
        "\n",
        "## **3. Interactive\twhile\tloops**\n",
        "\n",
        "While\tloops\tcan\talso\tbe\tused\tin\tan\tinteractive\tway,\tletting\tthe\tuser\tcontrol\twhen\tthe\tprogram\tstops\tlooping.\tTake\ta\tlook\tat\tthis\texample,\tagain\tfrom\thttp://anh.cs.luc.edu/handsonPythonTutorial/whilestatements.html :\n",
        "\n",
        "********************************\n",
        "Suppose you want to let a user enter a sequence of lines of text, and want to remember each line in a\n",
        "list. This could easily be done with a simple repeat loop if you knew the number of lines to enter. For\n",
        "example, in the version below, the user is prompted for the exact number of lines to be entered:"
      ]
    },
    {
      "cell_type": "code",
      "metadata": {
        "id": "fpkWhruH8h-8",
        "colab_type": "code",
        "outputId": "47af67b4-fb48-4e60-95f7-c4b6ea243eb3",
        "colab": {
          "base_uri": "https://localhost:8080/",
          "height": 154
        }
      },
      "source": [
        "lines = []\n",
        "\n",
        "n = int(input('How many lines do you want to enter? '))\n",
        "for i in range(n):\n",
        "  line = input('Next line: ')\n",
        "  lines.append(line)\n",
        "  \n",
        "print('Your lines were:') # check now\n",
        "for line in lines:\n",
        "  print(line)"
      ],
      "execution_count": 0,
      "outputs": [
        {
          "output_type": "stream",
          "text": [
            "How many lines do you want to enter? 3\n",
            "Next line: Birds are the best.\n",
            "Next line: Birds are my favorite.\n",
            "Next line: Nobody should say otherwise.\n",
            "Your lines were:\n",
            "Birds are the best.\n",
            "Birds are my favorite.\n",
            "Nobody should say otherwise.\n"
          ],
          "name": "stdout"
        }
      ]
    },
    {
      "cell_type": "markdown",
      "metadata": {
        "id": "UqakGX4M9Ezl",
        "colab_type": "text"
      },
      "source": [
        "The user may want to enter a bunch of lines and not count them all ahead of time. This means the\n",
        "number of repetitions would not be known ahead of time. A `while` loop is appropriate here. There is\n",
        "still the question of how to test whether the user wants to continue. An obvious but verbose way to do\n",
        "this is to ask before every line if the user wants to continue, as shown below. Read it and then run it:"
      ]
    },
    {
      "cell_type": "code",
      "metadata": {
        "id": "p9RkPI2W9HCd",
        "colab_type": "code",
        "outputId": "754c3aa0-07a4-4130-a7a0-bb8f37d9aa0d",
        "colab": {
          "base_uri": "https://localhost:8080/",
          "height": 103
        }
      },
      "source": [
        "lines = []\n",
        "\n",
        "testAnswer = input('Press y if you want to enter more lines: ')\n",
        "#while testAnswer == 'y' or testAnswer == 'Y':\n",
        "while testAnswer.lower() == 'y':\n",
        "  line = input('Next line: ')\n",
        "  lines.append(line)\n",
        "  testAnswer = input('Press y if you want to enter more lines: ')\n",
        "print('Your lines were:')\n",
        "\n",
        "for line in lines:\n",
        "  print(line)\n"
      ],
      "execution_count": 0,
      "outputs": [
        {
          "output_type": "stream",
          "text": [
            "Press y if you want to enter more lines: y\n",
            "Next line: here's a line about birds\n",
            "Press y if you want to enter more lines: n\n",
            "Your lines were:\n",
            "here's a line about birds\n"
          ],
          "name": "stdout"
        }
      ]
    },
    {
      "cell_type": "markdown",
      "metadata": {
        "id": "6bP_R7Dr9Swf",
        "colab_type": "text"
      },
      "source": [
        "See the two statements setting the value of the variable `testAnswer`: one before the `while` loop and one at the bottom of the loop body.\n",
        "\n",
        "\n",
        "---\n",
        "\n",
        "\n",
        "###Note\n",
        "The variable used for testing must be initialized before the loop, in order for the first test of the while condition to work. Also the test must work when you loop back from the end of the loop body and start the next iteration of the loop. This means the data for the test must also be set up a second\n",
        "time, in the loop body. It is easy to forget the second time!\n",
        "\n",
        "\n",
        "The code above works, but it may be more annoying than counting ahead! Two lines must be entered\n",
        "for every one you actually want! \n",
        "\n",
        "A practical alternative is to use a **sentinel**: a piece of data that\n",
        "would not make sense in the regular sequence, and which is used to indicate the end of the input.\n",
        "You could agree to use the line \"DONE!\" \n",
        "\n",
        "Even simpler: if you assume all the real lines of data will\n",
        "actually have some text on them, use an empty line as a sentinel. This way you only need\n",
        "to enter one extra (very simple) line, no matter how many lines of real data you have.\n",
        "\n",
        "What should the `while` condition be now? Since the sentinel is an empty line, you might\n",
        "think `line == ''` would be a good condition to use in the `while` loop, but that is the termination condition, not the continuation condition: You need\n",
        "the opposite condition. To negate a condition in Python, you may use `not`, like in English,"
      ]
    },
    {
      "cell_type": "markdown",
      "metadata": {
        "id": "xji-4gwE9l0y",
        "colab_type": "text"
      },
      "source": [
        "```\n",
        "not line == ''\n",
        "```\n",
        "\n",
        "\n",
        "Of course in this situation there is a shorter way:\n",
        "\n",
        "\n",
        "```\n",
        "line != ''\n",
        "\n",
        "```\n",
        "\n",
        "Run the example program shown below:"
      ]
    },
    {
      "cell_type": "code",
      "metadata": {
        "id": "3wE2cyq_9538",
        "colab_type": "code",
        "outputId": "d59f6269-9891-422d-f386-0e84ed8a3da8",
        "colab": {
          "base_uri": "https://localhost:8080/",
          "height": 188
        }
      },
      "source": [
        "lines = []\n",
        "\n",
        "print('Enter lines of text.')\n",
        "print('Enter an empty line to quit.')\n",
        "\n",
        "line = input('Next line: ') # initalize before the loop\n",
        "\n",
        "while line != '': # while NOT the termination condition\n",
        "  lines.append(line)\n",
        "  line = input('Next line: ') # !! reset value at end of loop!\n",
        "  \n",
        "print('Your lines were:')\n",
        "for line in lines:\n",
        "  print(line)"
      ],
      "execution_count": 0,
      "outputs": [
        {
          "output_type": "stream",
          "text": [
            "Enter lines of text.\n",
            "Enter an empty line to quit.\n",
            "Next line: I'm a little bit hungry.\n",
            "Next line: I should probably drink more coffee.\n",
            "Next line: And eat some nutritious food.\n",
            "Next line: \n",
            "Your lines were:\n",
            "I'm a little bit hungry.\n",
            "I should probably drink more coffee.\n",
            "And eat some nutritious food.\n"
          ],
          "name": "stdout"
        }
      ]
    },
    {
      "cell_type": "markdown",
      "metadata": {
        "id": "Q6vb7MoV-F6Q",
        "colab_type": "text"
      },
      "source": [
        "Again the data for the condition tested in the `while` loop heading must be initialized before the first\n",
        "time the `while` statement is executed, and the test data must also be made ready inside the loop for\n",
        "the test after the body has executed. Hence you see the statements setting the variable line both\n",
        "before the loop and at the end of the loop body. \n",
        "\n",
        "It is easy to forget the second place inside the loop!\n",
        "\n",
        "After reading the rest of this paragraph, comment the last line of the loop out, and run it again: It will never stop! The variable line will forever have the initial value you gave it! You actually can stop the program by entering Ctrl-C. That means hold the Ctrl key and press c.\n",
        "\n",
        "###Note\n",
        "\n",
        "As you finish coding a `while` loop, it is good practice to always double-check: \n",
        "* Did I make a change to the variables, inside the loop, that will eventually make the loop condition `False`?"
      ]
    },
    {
      "cell_type": "markdown",
      "metadata": {
        "id": "Bnt-84ea-Qq5",
        "colab_type": "text"
      },
      "source": [
        "##Try\tit\tyourself:\n",
        "\n",
        "\n",
        "---\n",
        "\n",
        "\n",
        "Write\ta\tprogram\tthat\tprompts\tthe\tuser\tto\tenter\tnumbers one\tat\ta\ttime\tand\tkeeps\ta\trunning\tsum\tof\tthe\tnumbers.\tWhen\tthe\tuser\tis\tdone\tentering\tnumbers\tto\tbe\tadded,\tthey\tshould\ttype\tSTOP,\tand your\tloop\tshould\tstop\trunning.\tRemember\tthe\tfollowing:\n",
        "* Create\ta\tvariable\tto\thold\tthe\tsum\tbefore\tthe\t`while`\tloop,\tand\tset\tits\tvalue\tto\tzero\n",
        "* Also\tbefore\tthe\t`while`\tloop,\tcreate\tthe\tvariable\tthat\tyou'll\tuse\tto\ttest\twhether\tit's\ttime\tto\tstop\n",
        "* Remember\tto\tget\ta\tnew\tvalue\tfor\tyour\tstopping\tvariable\t(i.e.\ta\tnew\tinput)\tbefore\tstarting\tthe\tnext iteration\tof\tthe\tloop\n",
        "* Remember\tto\tdo\ttype\tconversion\tso\tthat\tyou\tcan\tadd\tthe\tnumbers\t– they'll\tbe\tread\tin\tby\tthe\tinput\t\n",
        "function\tas\tstrings\n",
        "* Print\tout\tthe\tsum\tafter\tthe\tuser\tis\tdone\tentering\tnumbers\n",
        "\n",
        "\n",
        "###Raise\tyour\thand\tand\tlet\tus\tknow\twhen\tyou've\twritten\tthis\tsmall\tprogram!"
      ]
    },
    {
      "cell_type": "code",
      "metadata": {
        "id": "Zc3RCJa0aXrP",
        "colab_type": "code",
        "colab": {}
      },
      "source": [
        ""
      ],
      "execution_count": 0,
      "outputs": []
    },
    {
      "cell_type": "code",
      "metadata": {
        "id": "wiyMS6PZ-eeQ",
        "colab_type": "code",
        "cellView": "form",
        "colab": {}
      },
      "source": [
        "#@title\n",
        "mysum = 0\n",
        "\n",
        "num = input(\"enter your next number (type STOP to quit): \")\n",
        "while num != 'STOP':\n",
        "  mysum += int(num)\n",
        "  num = input(\"enter your next number (type STOP to quit): \")\n",
        "  \n",
        "  \n",
        "print('Your total is: ', mysum)\n",
        "  \n",
        "  "
      ],
      "execution_count": 0,
      "outputs": []
    },
    {
      "cell_type": "markdown",
      "metadata": {
        "id": "kPbKgJdL-fQs",
        "colab_type": "text"
      },
      "source": [
        "##There is no You Try exercise today! "
      ]
    }
  ]
}