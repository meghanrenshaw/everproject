{
  "nbformat": 4,
  "nbformat_minor": 0,
  "metadata": {
    "colab": {
      "name": "Copy of YouTry_October9_ReadingWritingFiles.ipynb",
      "provenance": [],
      "collapsed_sections": [],
      "include_colab_link": true
    },
    "kernelspec": {
      "name": "python3",
      "display_name": "Python 3"
    }
  },
  "cells": [
    {
      "cell_type": "markdown",
      "metadata": {
        "id": "view-in-github",
        "colab_type": "text"
      },
      "source": [
        "<a href=\"https://colab.research.google.com/github/meghanrenshaw/everproject/blob/master/Copy_of_YouTry_October9_ReadingWritingFiles.ipynb\" target=\"_parent\"><img src=\"https://colab.research.google.com/assets/colab-badge.svg\" alt=\"Open In Colab\"/></a>"
      ]
    },
    {
      "cell_type": "markdown",
      "metadata": {
        "id": "v29LkvBJIRIn",
        "colab_type": "text"
      },
      "source": [
        "##You Try - October 9th - Reading and Writing Files\n",
        "\n",
        "\n",
        "---\n",
        "\n",
        "\n",
        "Modify\tyour\tprogram\tfrom the tutorial — the one that is able to write text to a file — \tto\trequest\tinput\ttext\tfrom\ta\tuser\tand\tthen\twrite\tthat\ttext\tinto\ta\tnew\tfile\tcalled\toutput.txt."
      ]
    },
    {
      "cell_type": "markdown",
      "metadata": {
        "id": "dolb_ttiTHhY",
        "colab_type": "text"
      },
      "source": [
        "\n",
        "\n",
        "* create a file\n",
        "* save stuff to file\n",
        "\n",
        "* user input text to file\n",
        "* save as output.txt\n"
      ]
    },
    {
      "cell_type": "code",
      "metadata": {
        "id": "NrD3Xle7SMOY",
        "colab_type": "code",
        "outputId": "51871085-943c-4341-fd90-d3b4a8c63b97",
        "colab": {
          "base_uri": "https://localhost:8080/",
          "height": 70
        }
      },
      "source": [
        "with open(\"output.txt\", \"w\") as f:\n",
        "  something = input(\"Add word(s) to the file: \")\n",
        "  print(something, file = f)\n",
        "  while something != \"\":\n",
        "    something = input(\"Add more to the file: \")\n",
        "    print(something, file = f)\n",
        "f.close()"
      ],
      "execution_count": 0,
      "outputs": [
        {
          "output_type": "stream",
          "text": [
            "Add word(s) to the file: the\n",
            "Add more to the file: joker\n",
            "Add more to the file: \n"
          ],
          "name": "stdout"
        }
      ]
    },
    {
      "cell_type": "markdown",
      "metadata": {
        "id": "XeA97SVHIjf5",
        "colab_type": "text"
      },
      "source": [
        "Once you've successfully executed your program and written some text to your file via the input command,\topen\tthe\tfile\tin the Colab file browser (accessible via the arrow to your left)\tand\tcheck\tthat\tthe\toutput\twas\tsuccessfully\twritten."
      ]
    },
    {
      "cell_type": "markdown",
      "metadata": {
        "id": "8bwQWDzGIxAS",
        "colab_type": "text"
      },
      "source": [
        "###When you're done, paste the link to your Colab notebook on today's discussion board!"
      ]
    }
  ]
}
