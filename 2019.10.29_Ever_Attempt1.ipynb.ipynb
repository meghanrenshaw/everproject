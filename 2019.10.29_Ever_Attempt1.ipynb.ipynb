{
  "nbformat": 4,
  "nbformat_minor": 0,
  "metadata": {
    "colab": {
      "name": "final project - emotion",
      "provenance": [],
      "collapsed_sections": [],
      "include_colab_link": true
    },
    "kernelspec": {
      "name": "python3",
      "display_name": "Python 3"
    }
  },
  "cells": [
    {
      "cell_type": "markdown",
      "metadata": {
        "id": "view-in-github",
        "colab_type": "text"
      },
      "source": [
        "<a href=\"https://colab.research.google.com/github/meghanrenshaw/everproject/blob/master/final_project_emotion.ipynb\" target=\"_parent\"><img src=\"https://colab.research.google.com/assets/colab-badge.svg\" alt=\"Open In Colab\"/></a>"
      ]
    },
    {
      "cell_type": "code",
      "metadata": {
        "id": "OSOVsADAA3Ij",
        "colab_type": "code",
        "colab": {}
      },
      "source": [
        "#fearwords = {}\n",
        "#sadnesswords = {}\n",
        "#joywords = {}\n",
        "#angerwords = {\"outraged\" : 0.964, \"brutality\" : 0.959, \"hatred\" :\t0.953, \"hateful\" :\t0.940, \"terrorize\" :\t0.939}"
      ],
      "execution_count": 0,
      "outputs": []
    },
    {
      "cell_type": "code",
      "metadata": {
        "id": "hkXkUVjsfw3n",
        "colab_type": "code",
        "colab": {}
      },
      "source": [
        "fear = {}\n",
        "sad = {}\n",
        "joy = {}\n",
        "anger = {}\n",
        "feeling = [fear, sad, joy, anger]\n",
        "\n",
        "def kv_add(feeling):\n",
        "  e = input(\"Which list will you add to? : \")\n",
        "  for e in feeling:\n",
        "    while e == 'fear' or 'sad' or 'joy' or 'anger':\n",
        "    #pair = (key, value)\n",
        "      key = input('word : ')\n",
        "      value = input('value : ')\n",
        "    if key != \"\":\n",
        "      e = key, value\n",
        "      print(key, value)\n",
        "      e = input(\"Which list will you add to? : \")\n",
        "    elif key == \"\":\n",
        "      \n",
        "    else:\n",
        "      pass\n",
        "    e.append(key)"
      ],
      "execution_count": 0,
      "outputs": []
    },
    {
      "cell_type": "code",
      "metadata": {
        "id": "JX_9F-7DggvL",
        "colab_type": "code",
        "colab": {}
      },
      "source": [
        "kv_add(feeling)"
      ],
      "execution_count": 0,
      "outputs": []
    },
    {
      "cell_type": "code",
      "metadata": {
        "id": "v4YBNdobh6Tk",
        "colab_type": "code",
        "outputId": "cff5690a-9e87-4425-871b-4bf1e943704b",
        "colab": {
          "base_uri": "https://localhost:8080/",
          "height": 35
        }
      },
      "source": [
        "print(anger)"
      ],
      "execution_count": 0,
      "outputs": [
        {
          "output_type": "stream",
          "text": [
            "{}\n"
          ],
          "name": "stdout"
        }
      ]
    },
    {
      "cell_type": "code",
      "metadata": {
        "id": "FaUNmLRH7ibG",
        "colab_type": "code",
        "colab": {}
      },
      "source": [
        "fearwords = {}\n",
        "sadwords = {}\n",
        "joywords = {}\n",
        "angerwords = {}\n",
        "feelings = [fearwords, sadwords, joywords, angerwords]\n",
        "\n",
        "def emotion_dict(feelings):\n",
        "  for emotion in feelings:\n",
        "    start = input(\"Input data? \")\n",
        "    while start.lower() == \"\":\n",
        "      key = input(\"word being added to dict \")\n",
        "      value = input(\"rating for word \")\n",
        "      if key != \"\":\n",
        "        emotion[key] = value\n",
        "      start = input(\"Another word? \")\n",
        "    else:\n",
        "      print(\"done searching!\")\n",
        "  feelings.append(emotion)\n",
        "  print(emotion)\n",
        "\n",
        "with open(\"feelings.txt\", \"w\") as feelings:\n",
        "  print(feelings, file = feelings)\n",
        "with open(\"fearwords.txt\", \"w\") as fear:\n",
        "  print(fearwords, file = fear)\n",
        "with open(\"sadwords.txt\", \"w\") as sad:\n",
        "  print(sadwords, file = sad)\n",
        "with open(\"joywords.txt\", \"w\") as joy:\n",
        "  print(joywords, file = joy)\n",
        "with open(\"angerwords.txt\", \"w\") as anger:\n",
        "  print(angerwords, file = anger)\n"
      ],
      "execution_count": 0,
      "outputs": []
    },
    {
      "cell_type": "code",
      "metadata": {
        "id": "LdIB7JURaq78",
        "colab_type": "code",
        "colab": {}
      },
      "source": [
        "emotion_dict(anger)"
      ],
      "execution_count": 0,
      "outputs": []
    },
    {
      "cell_type": "code",
      "metadata": {
        "id": "By0uedZ175AH",
        "colab_type": "code",
        "colab": {}
      },
      "source": [
        "def addToFeelings():\n",
        "  "
      ],
      "execution_count": 0,
      "outputs": []
    },
    {
      "cell_type": "code",
      "metadata": {
        "id": "jr9xHbIxbTML",
        "colab_type": "code",
        "colab": {}
      },
      "source": [
        "fearwords = {}\n",
        "sadwords = {}\n",
        "joywords = {}\n",
        "angerwords = {}\n",
        "feelings = [fearwords, sadwords, joywords, angerwords]\n",
        "\n",
        "for emotion in feelings:\n",
        "    start = input(\"Input data? \")\n",
        "    while start.lower() == \"\":\n",
        "      key = input(\"word being added to dict \")\n",
        "      value = input(\"rating for word \")\n",
        "      if key != \"\":\n",
        "        emotion[key] = value\n",
        "      start = input(\"Another word? \")\n",
        "    else:\n",
        "      print(\"done searching!\")\n",
        "      feelings.append(emotion)\n",
        "print(emotion)"
      ],
      "execution_count": 0,
      "outputs": []
    },
    {
      "cell_type": "code",
      "metadata": {
        "id": "jq4ieiBdYvt2",
        "colab_type": "code",
        "colab": {}
      },
      "source": [
        "for emotion in feelings:\n",
        "  start = input(\"Input data? \")\n",
        "  while start.lower() == \"\":\n",
        "    key = input(\"word being added to dict \")\n",
        "    value = input(\"rating for word \")\n",
        "    if key != \"\":\n",
        "      emotion[key] = value\n",
        "    start = input(\"Another word? \")\n",
        "  else:\n",
        "    print(\"done searching!\")\n",
        "  feelings.append(emotion)\n",
        "print(emotion)"
      ],
      "execution_count": 0,
      "outputs": []
    },
    {
      "cell_type": "code",
      "metadata": {
        "id": "YJMc9yv4GMD2",
        "colab_type": "code",
        "outputId": "ac68fc84-907d-4009-c4c1-ced3c3aa3afc",
        "colab": {
          "base_uri": "https://localhost:8080/",
          "height": 446
        }
      },
      "source": [
        "fear = {}\n",
        "sad = {}\n",
        "joy = {}\n",
        "anger = {}\n",
        "feeling = [fear, sad, joy, anger]\n",
        "\n",
        "#this is adding dic items to anger\n",
        "start = input(\"Type anger \")\n",
        "while start.lower() == 'anger':\n",
        "  key = input(\"word being added to dict \")\n",
        "  value = input(\"rating for word \")\n",
        "  if key != \"\":\n",
        "    anger[key] = value\n",
        "  start = input(\"type anger \")\n",
        "else:\n",
        "  print(\"done searching!\")\n",
        "print(anger)\n",
        "for key in anger:\n",
        "  print(key, \" : \", value)\n",
        "\n",
        "\n",
        "\n",
        "\n",
        "#feelings.append(fearwords)\n",
        "#feelings.append(sadnesswords)\n",
        "#feelings.append(joywords)\n",
        "\n",
        "\n",
        "\n"
      ],
      "execution_count": 0,
      "outputs": [
        {
          "output_type": "stream",
          "text": [
            "Type anger anger\n",
            "word being added to dict outraged\n",
            "rating for word 0.964\n",
            "type anger anger\n",
            "word being added to dict brutality\n",
            "rating for word 0.959\n",
            "type anger anger\n",
            "word being added to dict hatred\n",
            "rating for word 0.953\n",
            "type anger anger\n",
            "word being added to dict hateful\n",
            "rating for word 0.940\n",
            "type anger anger\n",
            "word being added to dict terrorize\n",
            "rating for word 0.939\n",
            "type anger \n",
            "done searching!\n",
            "{'outraged': '0.964', 'brutality': '0.959', 'hatred': '0.953', 'hateful': '0.940', 'terrorize': '0.939'}\n",
            "outraged  :  0.939\n",
            "brutality  :  0.939\n",
            "hatred  :  0.939\n",
            "hateful  :  0.939\n",
            "terrorize  :  0.939\n"
          ],
          "name": "stdout"
        }
      ]
    },
    {
      "cell_type": "code",
      "metadata": {
        "id": "zHOvMKEC24j8",
        "colab_type": "code",
        "colab": {}
      },
      "source": [
        "fear = {}\n",
        "sad = {}\n",
        "joy = {}\n",
        "anger = {}\n",
        "feeling = [fear, sad, joy, anger]\n",
        "\n",
        "def anger_adds():\n",
        "  start = input(\"type anger\")\n",
        "  while start.lower() == 'anger':\n",
        "    key = input(\"word being added to dict \")\n",
        "    value = input(\"rating for word \")\n",
        "    if key != \"\":\n",
        "      anger[key] = value\n",
        "    start = input(\"type anger \")\n",
        "    #else:\n",
        "      #pass\n",
        "    print(\"done searching!\")\n",
        "    #print(anger)\n",
        "  for key in anger:\n",
        "    print(key, \" : \", value)"
      ],
      "execution_count": 0,
      "outputs": []
    },
    {
      "cell_type": "code",
      "metadata": {
        "id": "UXE0JqBk3pQF",
        "colab_type": "code",
        "outputId": "a30be931-343f-4d49-d01b-2e2c5529c1f0",
        "colab": {
          "base_uri": "https://localhost:8080/",
          "height": 319
        }
      },
      "source": [
        "anger_adds()"
      ],
      "execution_count": 0,
      "outputs": [
        {
          "output_type": "stream",
          "text": [
            "type angeranger\n",
            "word being added to dict bickering\n",
            "rating for word 0.578\n",
            "type anger anger\n",
            "done searching!\n",
            "word being added to dict coup\n",
            "rating for word 0.578\n",
            "type anger defiant\n",
            "done searching!\n",
            "outraged  :  0.578\n",
            "brutality  :  0.578\n",
            "hatred  :  0.578\n",
            "hateful  :  0.578\n",
            "terrorize  :  0.578\n",
            "coup  :  0.578\n",
            "0.582  :  0.578\n",
            "bickering  :  0.578\n"
          ],
          "name": "stdout"
        }
      ]
    },
    {
      "cell_type": "code",
      "metadata": {
        "id": "H90qM_3d1SXE",
        "colab_type": "code",
        "outputId": "006d4374-50b9-4142-ee0a-6fe5bbcc0baf",
        "colab": {
          "base_uri": "https://localhost:8080/",
          "height": 55
        }
      },
      "source": [
        "print(anger)"
      ],
      "execution_count": 0,
      "outputs": [
        {
          "output_type": "stream",
          "text": [
            "{'outraged': '0.964', 'brutality': '0.959', 'hatred': '0.953', 'hateful': '0.940', 'terrorize': '0.939'}\n"
          ],
          "name": "stdout"
        }
      ]
    },
    {
      "cell_type": "code",
      "metadata": {
        "id": "VakEemza1kOu",
        "colab_type": "code",
        "colab": {}
      },
      "source": [
        "with open(\"anger.txt\", \"w\")as angerwords:\n",
        "  print(anger, file = angerwords)"
      ],
      "execution_count": 0,
      "outputs": []
    },
    {
      "cell_type": "code",
      "metadata": {
        "id": "eT0k_WtT13nt",
        "colab_type": "code",
        "outputId": "664460b4-72b2-4c13-a567-6fae89d359cf",
        "colab": {
          "base_uri": "https://localhost:8080/",
          "height": 35
        }
      },
      "source": [
        "len(anger)"
      ],
      "execution_count": 0,
      "outputs": [
        {
          "output_type": "execute_result",
          "data": {
            "text/plain": [
              "5"
            ]
          },
          "metadata": {
            "tags": []
          },
          "execution_count": 52
        }
      ]
    },
    {
      "cell_type": "code",
      "metadata": {
        "id": "Sld6Smo9EKRO",
        "colab_type": "code",
        "colab": {}
      },
      "source": [
        "sentenceX = \"brutality and hatred\""
      ],
      "execution_count": 0,
      "outputs": []
    },
    {
      "cell_type": "code",
      "metadata": {
        "id": "r8XoFWHE6n0e",
        "colab_type": "code",
        "colab": {}
      },
      "source": [
        "sentence = \"My Lexus was only six months young when that clumsy, no good texter slammed into me. I had an important meeting in 15 minutes with my boss! Now because of this moron I would miss it. “I’m probably going to lose my freaking -job!” I yelled at the 20-something who innocently exited her beat up Mercedes. She had knocked my Starbucks out of its holder and onto my pristine car mats. She made no apologies as she looked desperately at her own car’s damage. What a waste of space, I thought.\""
      ],
      "execution_count": 0,
      "outputs": []
    },
    {
      "cell_type": "code",
      "metadata": {
        "id": "lhXIdzTuWa-T",
        "colab_type": "code",
        "colab": {}
      },
      "source": [
        "with open(\"emotions.txt\", \"w\") as emotions:\n",
        "  print(feelings, file = emotions)\n",
        "  with open(\"angerwords.txt\", \"w\") as anger:\n",
        "    print(angerwords, file = anger)"
      ],
      "execution_count": 0,
      "outputs": []
    },
    {
      "cell_type": "code",
      "metadata": {
        "id": "X8WudWZGEOg1",
        "colab_type": "code",
        "colab": {}
      },
      "source": [
        "new = sentence.split()\n",
        "#print(new)\n",
        "usedwords = []\n",
        "counter = 0\n",
        "#while word != \"\":\n",
        "for word in new:\n",
        "  if word in angerwords:\n",
        "    usedwords.append(word)\n",
        "    counter = counter + 1\n",
        "    print(word, angerwords[word], count)\n",
        "#for emote in usedwords:\n",
        "  #if emote is word in angerwords:\n",
        "    #print(usedwords, value)\n",
        "else:\n",
        "    pass\n",
        "print(\"The author used \", usedwords, \" in their writing. They must be feeling \", emotion)\n",
        "\n",
        "#angerwords[key]"
      ],
      "execution_count": 0,
      "outputs": []
    },
    {
      "cell_type": "code",
      "metadata": {
        "id": "9ZjHpRQ89xK9",
        "colab_type": "code",
        "colab": {}
      },
      "source": [
        "name = open(\"usernames.txt\", \"w\") #opens file usernames.txt and gets ready to write to it\n",
        "file = input(\"please type some text: \") #asks user for text in code\n",
        "\n",
        "name.write(file) #writes contents in file to usernames.txt\n",
        "name.close() #closes file\n",
        "open1 = open(\"usernames.txt\", \"r\") #opens file to read it\n",
        "print (open1.read()) #prints whatever is in the text file"
      ],
      "execution_count": 0,
      "outputs": []
    },
    {
      "cell_type": "code",
      "metadata": {
        "id": "W-FsQN_-8X-n",
        "colab_type": "code",
        "outputId": "89019856-33b2-45c3-f8a8-d4e82ed43a7b",
        "colab": {
          "base_uri": "https://localhost:8080/",
          "height": 88
        }
      },
      "source": [
        "questionOne = input(\"How is your day going?: \")\n",
        "print(questionOne)\n",
        "questionTwo = input(\"What did you do today?: \")\n",
        "print(questionTwo)\n"
      ],
      "execution_count": 0,
      "outputs": [
        {
          "output_type": "stream",
          "text": [
            "How is your day going?: well\n",
            "well\n",
            "What did you do today?: I went to class.\n",
            "I went to class.\n"
          ],
          "name": "stdout"
        }
      ]
    }
  ]
}
