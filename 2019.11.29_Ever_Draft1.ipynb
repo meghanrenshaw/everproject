{
  "nbformat": 4,
  "nbformat_minor": 0,
  "metadata": {
    "colab": {
      "name": "EVER : completed lexicon final project",
      "provenance": [],
      "collapsed_sections": [],
      "include_colab_link": true
    },
    "kernelspec": {
      "name": "python3",
      "display_name": "Python 3"
    }
  },
  "cells": [
    {
      "cell_type": "markdown",
      "metadata": {
        "id": "view-in-github",
        "colab_type": "text"
      },
      "source": [
        "<a href=\"https://colab.research.google.com/github/meghanrenshaw/everproject/blob/master/EVER_completed_lexicon_final_project.ipynb\" target=\"_parent\"><img src=\"https://colab.research.google.com/assets/colab-badge.svg\" alt=\"Open In Colab\"/></a>"
      ]
    },
    {
      "cell_type": "code",
      "metadata": {
        "id": "379Lh6wqv6sm",
        "colab_type": "code",
        "outputId": "295ae24c-7f32-49f8-d1ba-3ea25b063772",
        "colab": {
          "base_uri": "https://localhost:8080/",
          "height": 72
        }
      },
      "source": [
        "import pandas as pd\n",
        "import openpyxl, pprint\n",
        "wb = openpyxl.load_workbook('emotionlexicon-english.txt.xlsx')\n",
        "sheet = wb.get_sheet_by_name('emotion')\n",
        "import string\n",
        "string.punctuation\n",
        "from datetime import date"
      ],
      "execution_count": 0,
      "outputs": [
        {
          "output_type": "stream",
          "text": [
            "/usr/local/lib/python3.6/dist-packages/ipykernel_launcher.py:4: DeprecationWarning: Call to deprecated function get_sheet_by_name (Use wb[sheetname]).\n",
            "  after removing the cwd from sys.path.\n"
          ],
          "name": "stderr"
        }
      ]
    },
    {
      "cell_type": "code",
      "metadata": {
        "id": "3VqHZb6Ov9WT",
        "colab_type": "code",
        "outputId": "ba6d9998-e7b2-43c8-fafd-0d00de834d7a",
        "colab": {
          "base_uri": "https://localhost:8080/",
          "height": 428
        }
      },
      "source": [
        "emotionsData = pd.read_excel('emotionlexicon-english.txt.xlsx', index_col=0)\n",
        "emotionsData"
      ],
      "execution_count": 0,
      "outputs": [
        {
          "output_type": "execute_result",
          "data": {
            "text/html": [
              "<div>\n",
              "<style scoped>\n",
              "    .dataframe tbody tr th:only-of-type {\n",
              "        vertical-align: middle;\n",
              "    }\n",
              "\n",
              "    .dataframe tbody tr th {\n",
              "        vertical-align: top;\n",
              "    }\n",
              "\n",
              "    .dataframe thead th {\n",
              "        text-align: right;\n",
              "    }\n",
              "</style>\n",
              "<table border=\"1\" class=\"dataframe\">\n",
              "  <thead>\n",
              "    <tr style=\"text-align: right;\">\n",
              "      <th></th>\n",
              "      <th>anger</th>\n",
              "      <th>anticipation</th>\n",
              "      <th>disgust</th>\n",
              "      <th>fear</th>\n",
              "      <th>joy</th>\n",
              "      <th>sadness</th>\n",
              "      <th>surprise</th>\n",
              "      <th>trust</th>\n",
              "    </tr>\n",
              "    <tr>\n",
              "      <th>words</th>\n",
              "      <th></th>\n",
              "      <th></th>\n",
              "      <th></th>\n",
              "      <th></th>\n",
              "      <th></th>\n",
              "      <th></th>\n",
              "      <th></th>\n",
              "      <th></th>\n",
              "    </tr>\n",
              "  </thead>\n",
              "  <tbody>\n",
              "    <tr>\n",
              "      <th>aback</th>\n",
              "      <td>0</td>\n",
              "      <td>0</td>\n",
              "      <td>0</td>\n",
              "      <td>0</td>\n",
              "      <td>0</td>\n",
              "      <td>0</td>\n",
              "      <td>0</td>\n",
              "      <td>0</td>\n",
              "    </tr>\n",
              "    <tr>\n",
              "      <th>abacus</th>\n",
              "      <td>0</td>\n",
              "      <td>0</td>\n",
              "      <td>0</td>\n",
              "      <td>0</td>\n",
              "      <td>0</td>\n",
              "      <td>0</td>\n",
              "      <td>0</td>\n",
              "      <td>1</td>\n",
              "    </tr>\n",
              "    <tr>\n",
              "      <th>abandon</th>\n",
              "      <td>0</td>\n",
              "      <td>0</td>\n",
              "      <td>0</td>\n",
              "      <td>1</td>\n",
              "      <td>0</td>\n",
              "      <td>1</td>\n",
              "      <td>0</td>\n",
              "      <td>0</td>\n",
              "    </tr>\n",
              "    <tr>\n",
              "      <th>abandoned</th>\n",
              "      <td>1</td>\n",
              "      <td>0</td>\n",
              "      <td>0</td>\n",
              "      <td>1</td>\n",
              "      <td>0</td>\n",
              "      <td>1</td>\n",
              "      <td>0</td>\n",
              "      <td>0</td>\n",
              "    </tr>\n",
              "    <tr>\n",
              "      <th>abandonment</th>\n",
              "      <td>1</td>\n",
              "      <td>0</td>\n",
              "      <td>0</td>\n",
              "      <td>1</td>\n",
              "      <td>0</td>\n",
              "      <td>1</td>\n",
              "      <td>1</td>\n",
              "      <td>0</td>\n",
              "    </tr>\n",
              "    <tr>\n",
              "      <th>...</th>\n",
              "      <td>...</td>\n",
              "      <td>...</td>\n",
              "      <td>...</td>\n",
              "      <td>...</td>\n",
              "      <td>...</td>\n",
              "      <td>...</td>\n",
              "      <td>...</td>\n",
              "      <td>...</td>\n",
              "    </tr>\n",
              "    <tr>\n",
              "      <th>zone</th>\n",
              "      <td>0</td>\n",
              "      <td>0</td>\n",
              "      <td>0</td>\n",
              "      <td>0</td>\n",
              "      <td>0</td>\n",
              "      <td>0</td>\n",
              "      <td>0</td>\n",
              "      <td>0</td>\n",
              "    </tr>\n",
              "    <tr>\n",
              "      <th>zoo</th>\n",
              "      <td>0</td>\n",
              "      <td>0</td>\n",
              "      <td>0</td>\n",
              "      <td>0</td>\n",
              "      <td>0</td>\n",
              "      <td>0</td>\n",
              "      <td>0</td>\n",
              "      <td>0</td>\n",
              "    </tr>\n",
              "    <tr>\n",
              "      <th>zoological</th>\n",
              "      <td>0</td>\n",
              "      <td>0</td>\n",
              "      <td>0</td>\n",
              "      <td>0</td>\n",
              "      <td>0</td>\n",
              "      <td>0</td>\n",
              "      <td>0</td>\n",
              "      <td>0</td>\n",
              "    </tr>\n",
              "    <tr>\n",
              "      <th>zoology</th>\n",
              "      <td>0</td>\n",
              "      <td>0</td>\n",
              "      <td>0</td>\n",
              "      <td>0</td>\n",
              "      <td>0</td>\n",
              "      <td>0</td>\n",
              "      <td>0</td>\n",
              "      <td>0</td>\n",
              "    </tr>\n",
              "    <tr>\n",
              "      <th>zoom</th>\n",
              "      <td>0</td>\n",
              "      <td>0</td>\n",
              "      <td>0</td>\n",
              "      <td>0</td>\n",
              "      <td>0</td>\n",
              "      <td>0</td>\n",
              "      <td>0</td>\n",
              "      <td>0</td>\n",
              "    </tr>\n",
              "  </tbody>\n",
              "</table>\n",
              "<p>14182 rows × 8 columns</p>\n",
              "</div>"
            ],
            "text/plain": [
              "             anger  anticipation  disgust  fear  joy  sadness  surprise  trust\n",
              "words                                                                         \n",
              "aback            0             0        0     0    0        0         0      0\n",
              "abacus           0             0        0     0    0        0         0      1\n",
              "abandon          0             0        0     1    0        1         0      0\n",
              "abandoned        1             0        0     1    0        1         0      0\n",
              "abandonment      1             0        0     1    0        1         1      0\n",
              "...            ...           ...      ...   ...  ...      ...       ...    ...\n",
              "zone             0             0        0     0    0        0         0      0\n",
              "zoo              0             0        0     0    0        0         0      0\n",
              "zoological       0             0        0     0    0        0         0      0\n",
              "zoology          0             0        0     0    0        0         0      0\n",
              "zoom             0             0        0     0    0        0         0      0\n",
              "\n",
              "[14182 rows x 8 columns]"
            ]
          },
          "metadata": {
            "tags": []
          },
          "execution_count": 73
        }
      ]
    },
    {
      "cell_type": "code",
      "metadata": {
        "id": "VTPzKJt4v-OL",
        "colab_type": "code",
        "outputId": "aa9eb53b-9e7d-46f5-bbdb-cc18aad38b98",
        "colab": {
          "base_uri": "https://localhost:8080/",
          "height": 35
        }
      },
      "source": [
        "emotionsData.shape"
      ],
      "execution_count": 0,
      "outputs": [
        {
          "output_type": "execute_result",
          "data": {
            "text/plain": [
              "(14182, 8)"
            ]
          },
          "metadata": {
            "tags": []
          },
          "execution_count": 74
        }
      ]
    },
    {
      "cell_type": "code",
      "metadata": {
        "id": "Mfviube5v_4T",
        "colab_type": "code",
        "outputId": "771479d0-48fd-4f07-8991-ecd43ad0da2b",
        "colab": {
          "base_uri": "https://localhost:8080/",
          "height": 177
        }
      },
      "source": [
        "first = emotionsData.loc['arson']\n",
        "first"
      ],
      "execution_count": 0,
      "outputs": [
        {
          "output_type": "execute_result",
          "data": {
            "text/plain": [
              "anger           1\n",
              "anticipation    0\n",
              "disgust         0\n",
              "fear            1\n",
              "joy             0\n",
              "sadness         0\n",
              "surprise        0\n",
              "trust           0\n",
              "Name: arson, dtype: int64"
            ]
          },
          "metadata": {
            "tags": []
          },
          "execution_count": 75
        }
      ]
    },
    {
      "cell_type": "code",
      "metadata": {
        "id": "xIBnSTo1wBKp",
        "colab_type": "code",
        "colab": {}
      },
      "source": [
        "df = pd.DataFrame(emotionsData, columns = ['anger', 'anticipation', 'disgust', 'fear', 'joy', 'sadness', 'surprise', 'trust'])"
      ],
      "execution_count": 0,
      "outputs": []
    },
    {
      "cell_type": "code",
      "metadata": {
        "id": "PXqCQKOpwCVP",
        "colab_type": "code",
        "outputId": "28283bce-b1e6-4a53-e481-fe0ac2db210a",
        "colab": {
          "base_uri": "https://localhost:8080/",
          "height": 223
        }
      },
      "source": [
        "df.head()"
      ],
      "execution_count": 0,
      "outputs": [
        {
          "output_type": "execute_result",
          "data": {
            "text/html": [
              "<div>\n",
              "<style scoped>\n",
              "    .dataframe tbody tr th:only-of-type {\n",
              "        vertical-align: middle;\n",
              "    }\n",
              "\n",
              "    .dataframe tbody tr th {\n",
              "        vertical-align: top;\n",
              "    }\n",
              "\n",
              "    .dataframe thead th {\n",
              "        text-align: right;\n",
              "    }\n",
              "</style>\n",
              "<table border=\"1\" class=\"dataframe\">\n",
              "  <thead>\n",
              "    <tr style=\"text-align: right;\">\n",
              "      <th></th>\n",
              "      <th>anger</th>\n",
              "      <th>anticipation</th>\n",
              "      <th>disgust</th>\n",
              "      <th>fear</th>\n",
              "      <th>joy</th>\n",
              "      <th>sadness</th>\n",
              "      <th>surprise</th>\n",
              "      <th>trust</th>\n",
              "    </tr>\n",
              "    <tr>\n",
              "      <th>words</th>\n",
              "      <th></th>\n",
              "      <th></th>\n",
              "      <th></th>\n",
              "      <th></th>\n",
              "      <th></th>\n",
              "      <th></th>\n",
              "      <th></th>\n",
              "      <th></th>\n",
              "    </tr>\n",
              "  </thead>\n",
              "  <tbody>\n",
              "    <tr>\n",
              "      <th>aback</th>\n",
              "      <td>0</td>\n",
              "      <td>0</td>\n",
              "      <td>0</td>\n",
              "      <td>0</td>\n",
              "      <td>0</td>\n",
              "      <td>0</td>\n",
              "      <td>0</td>\n",
              "      <td>0</td>\n",
              "    </tr>\n",
              "    <tr>\n",
              "      <th>abacus</th>\n",
              "      <td>0</td>\n",
              "      <td>0</td>\n",
              "      <td>0</td>\n",
              "      <td>0</td>\n",
              "      <td>0</td>\n",
              "      <td>0</td>\n",
              "      <td>0</td>\n",
              "      <td>1</td>\n",
              "    </tr>\n",
              "    <tr>\n",
              "      <th>abandon</th>\n",
              "      <td>0</td>\n",
              "      <td>0</td>\n",
              "      <td>0</td>\n",
              "      <td>1</td>\n",
              "      <td>0</td>\n",
              "      <td>1</td>\n",
              "      <td>0</td>\n",
              "      <td>0</td>\n",
              "    </tr>\n",
              "    <tr>\n",
              "      <th>abandoned</th>\n",
              "      <td>1</td>\n",
              "      <td>0</td>\n",
              "      <td>0</td>\n",
              "      <td>1</td>\n",
              "      <td>0</td>\n",
              "      <td>1</td>\n",
              "      <td>0</td>\n",
              "      <td>0</td>\n",
              "    </tr>\n",
              "    <tr>\n",
              "      <th>abandonment</th>\n",
              "      <td>1</td>\n",
              "      <td>0</td>\n",
              "      <td>0</td>\n",
              "      <td>1</td>\n",
              "      <td>0</td>\n",
              "      <td>1</td>\n",
              "      <td>1</td>\n",
              "      <td>0</td>\n",
              "    </tr>\n",
              "  </tbody>\n",
              "</table>\n",
              "</div>"
            ],
            "text/plain": [
              "             anger  anticipation  disgust  fear  joy  sadness  surprise  trust\n",
              "words                                                                         \n",
              "aback            0             0        0     0    0        0         0      0\n",
              "abacus           0             0        0     0    0        0         0      1\n",
              "abandon          0             0        0     1    0        1         0      0\n",
              "abandoned        1             0        0     1    0        1         0      0\n",
              "abandonment      1             0        0     1    0        1         1      0"
            ]
          },
          "metadata": {
            "tags": []
          },
          "execution_count": 77
        }
      ]
    },
    {
      "cell_type": "code",
      "metadata": {
        "id": "h_NkYostwDl6",
        "colab_type": "code",
        "colab": {}
      },
      "source": [
        "angerwords = df[df['anger']==1].index.tolist()\n",
        "anticipationwords = df[df['anticipation']==1].index.tolist()\n",
        "disgustwords = df[df['disgust']==1].index.tolist()\n",
        "fearwords = df[df['fear']==1].index.tolist()\n",
        "joywords = df[df['joy']==1].index.tolist()\n",
        "sadnesswords = df[df['sadness']==1].index.tolist()\n",
        "surprisewords = df[df['surprise']==1].index.tolist()\n",
        "trustwords = df[df['trust']==1].index.tolist()"
      ],
      "execution_count": 0,
      "outputs": []
    },
    {
      "cell_type": "code",
      "metadata": {
        "id": "r6DfPLgLwEqn",
        "colab_type": "code",
        "outputId": "7c0b8097-1141-49e4-be2e-1625b0225ec3",
        "colab": {
          "base_uri": "https://localhost:8080/",
          "height": 72
        }
      },
      "source": [
        "print(angerwords)\n",
        "print(joywords)"
      ],
      "execution_count": 0,
      "outputs": [
        {
          "output_type": "stream",
          "text": [
            "['abandoned', 'abandonment', 'abhor', 'abhorrent', 'abolish', 'abomination', 'abuse', 'accursed', 'accusation', 'accused', 'accuser', 'accusing', 'actionable', 'adder', 'adversary', 'adverse', 'adversity', 'advocacy', 'affront', 'aftermath', 'aggravated', 'aggravating', 'aggravation', 'aggression', 'aggressive', 'aggressor', 'agitated', 'agitation', 'agony', 'alcoholism', 'alienate', 'alienation', 'allegation', 'altercation', 'ambush', 'anarchism', 'anarchist', 'anarchy', 'anathema', 'anger', 'angry', 'anguish', 'animosity', 'animus', 'annihilate', 'annihilated', 'annihilation', 'annoy', 'annoyance', 'annoying', 'antagonism', 'antagonist', 'antagonistic', 'antichrist', 'antipathy', 'antisocial', 'antithesis', 'anxiety', 'argue', 'argument', 'argumentation', 'arguments', 'armament', 'armed', 'arraignment', 'arrogant', 'arson', 'assail', 'assailant', 'assassin', 'assassinate', 'assassination', 'assault', 'asshole', 'atrocious', 'atrocity', 'attack', 'attacking', 'attorney', 'avarice', 'avenger', 'averse', 'aversion', 'awful', 'backbone', 'bad', 'badger', 'badness', 'bane', 'bang', 'banger', 'banish', 'banished', 'banishment', 'bankruptcy', 'banshee', 'barb', 'barbaric', 'bark', 'barrier', 'bastion', 'battalion', 'batter', 'battery', 'battle', 'battled', 'bayonet', 'bear', 'bearish', 'beast', 'beating', 'bee', 'belittle', 'belligerent', 'bellows', 'belt', 'berserk', 'betray', 'betrayal', 'bias', 'bickering', 'bigot', 'bigoted', 'bile', 'birch', 'birthplace', 'bitch', 'bitterly', 'bitterness', 'blackmail', 'blame', 'blasphemous', 'blasphemy', 'blast', 'blatant', 'blaze', 'blemish', 'blockade', 'bloodshed', 'bloodthirsty', 'bloody', 'bogus', 'boisterous', 'bomb', 'bombard', 'bombardment', 'bothering', 'bout', 'boxing', 'brawl', 'brazen', 'brimstone', 'broil', 'broken', 'brunt', 'brutal', 'brutality', 'brute', 'buffet', 'bugaboo', 'bully', 'bummer', 'burial', 'burke', 'busted', 'butcher', 'cacophony', 'cad', 'callous', 'campaigning', 'cancer', 'cane', 'canker', 'cannon', 'carelessness', 'carnage', 'cash', 'casualty', 'catastrophe', 'caution', 'celebrity', 'censor', 'chaff', 'challenge', 'chant', 'chaos', 'chaotic', 'cheat', 'choke', 'claimant', 'clamor', 'clash', 'clashing', 'claw', 'coerce', 'coercion', 'coldness', 'collision', 'collusion', 'combat', 'combatant', 'combative', 'commotion', 'communism', 'complain', 'complaint', 'complicate', 'compress', 'compulsion', 'concealment', 'concussion', 'condemn', 'condemnation', 'condescension', 'confine', 'confined', 'confinement', 'confiscate', 'conflagration', 'conflict', 'confront', 'confusion', 'conquest', 'conspirator', 'consternation', 'constraint', 'contempt', 'contemptible', 'contemptuous', 'contentious', 'contraband', 'contradict', 'controversial', 'convict', 'coop', 'copycat', 'corrupting', 'counsellor', 'coup', 'court', 'crabby', 'cracked', 'cranky', 'crazed', 'crazy', 'crime', 'criminal', 'criminality', 'criticism', 'criticize', 'cross', 'crucifixion', 'cruel', 'cruelly', 'cruelty', 'crunch', 'crusade', 'crushed', 'crushing', 'cur', 'curse', 'cursed', 'cursing', 'cussed', 'cutthroat', 'cutting', 'dabbling', 'daemon', 'damage', 'dame', 'damn', 'damnation', 'darkness', 'dashed', 'dastardly', 'deadly', 'death', 'deceit', 'deceive', 'deceived', 'decry', 'defamatory', 'defect', 'defendant', 'defense', 'defiance', 'defiant', 'deflate', 'defraud', 'defy', 'degeneracy', 'delay', 'deleterious', 'delinquent', 'delusion', 'delusional', 'demand', 'demolish', 'demon', 'demonic', 'denounce', 'denunciation', 'deny', 'deplorable', 'deplore', 'deportation', 'depraved', 'depravity', 'depreciate', 'depreciated', 'depressed', 'deprivation', 'deranged', 'derision', 'derogation', 'derogatory', 'desecration', 'desert', 'deserted', 'deserve', 'desist', 'despair', 'despicable', 'despise', 'despotism', 'destroyed', 'destroyer', 'destroying', 'destruction', 'destructive', 'detainee', 'deterioration', 'detest', 'detonation', 'detract', 'devastate', 'devastating', 'devastation', 'devil', 'diabolical', 'diatribe', 'dictatorial', 'dictatorship', 'difficulty', 'disagree', 'disagreeing', 'disagreement', 'disallowed', 'disappoint', 'disappointed', 'disapprove', 'disapproved', 'disapproving', 'disaster', 'disastrous', 'disclaim', 'discontent', 'discord', 'discriminate', 'discrimination', 'disdain', 'disease', 'disfigured', 'disgrace', 'disgraced', 'disgraceful', 'disgruntled', 'disgust', 'disgusting', 'dishonest', 'dishonor', 'disillusionment', 'disinformation', 'dislike', 'disliked', 'dislocated', 'dismay', 'dismissal', 'disobedience', 'disobedient', 'disobey', 'disparage', 'disparaging', 'disparity', 'displaced', 'displeased', 'dispossessed', 'dispute', 'disqualified', 'disreputable', 'disrespect', 'disrespectful', 'disruption', 'dissension', 'disservice', 'dissident', 'dissolution', 'dissonance', 'distracted', 'distracting', 'distress', 'distressing', 'distrust', 'disturbance', 'disturbed', 'disused', 'divorce', 'dominate', 'domination', 'doomsday', 'dreadful', 'duel', 'dumps', 'dupe', 'duplicity', 'duress', 'dying', 'earthquake', 'effigy', 'egregious', 'elbow', 'elf', 'elimination', 'encumbrance', 'endless', 'enemy', 'enforce', 'enmity', 'enslaved', 'entangled', 'epidemic', 'eradicate', 'eradication', 'erupt', 'eruption', 'escalate', 'eschew', 'evade', 'eviction', 'evil', 'exacerbation', 'exaggerate', 'exasperation', 'excitation', 'excite', 'execution', 'executioner', 'exile', 'expel', 'expletive', 'explode', 'explosive', 'expulsion', 'extermination', 'extinguish', 'failing', 'fallacious', 'falsehood', 'falsification', 'fatal', 'fear', 'fee', 'feeling', 'fenced', 'ferocious', 'ferocity', 'fervor', 'feud', 'feudalism', 'fib', 'fiend', 'fierce', 'fight', 'fighting', 'firearms', 'fits', 'flagrant', 'fleece', 'flog', 'fluctuation', 'foe', 'foray', 'forbidding', 'force', 'forcibly', 'forearm', 'forfeit', 'forsaken', 'foul', 'fraud', 'fraudulent', 'frenetic', 'frenzied', 'friction', 'frightful', 'frowning', 'frustrate', 'frustrated', 'frustration', 'fugitive', 'fuming', 'furious', 'furiously', 'furnace', 'furor', 'fury', 'fuss', 'gall', 'gallows', 'gang', 'gent', 'gibberish', 'glare', 'glaring', 'gnome', 'godless', 'gonorrhea', 'gore', 'gory', 'grab', 'grated', 'grating', 'greed', 'grievance', 'grievous', 'grim', 'grope', 'growl', 'growling', 'grudge', 'gruff', 'grumble', 'grumpy', 'guillotine', 'guilty', 'gun', 'halter', 'hamstring', 'hanging', 'harass', 'harassing', 'harbinger', 'hardened', 'harmful', 'harry', 'harshness', 'hate', 'hateful', 'hating', 'hatred', 'haughty', 'havoc', 'hell', 'hellish', 'hiss', 'hit', 'hoax', 'holocaust', 'homeless', 'homicidal', 'homicide', 'honest', 'hood', 'hoot', 'hopelessness', 'horrible', 'horrid', 'horrific', 'horror', 'hostage', 'hostile', 'hostilities', 'hostility', 'hot', 'howl', 'huff', 'humbug', 'humiliate', 'hunting', 'hurt', 'hurtful', 'hurting', 'hysterical', 'idiocy', 'idiotic', 'ill', 'illegal', 'illegality', 'illegitimate', 'illicit', 'immaturity', 'immoral', 'immorality', 'impermeable', 'implicate', 'impotence', 'imprisoned', 'imprisonment', 'inadmissible', 'inappropriate', 'inattention', 'incarceration', 'incase', 'incendiary', 'incense', 'incest', 'incite', 'incompatible', 'incompetent', 'incongruous', 'inconsiderate', 'inconvenient', 'incredulous', 'incurable', 'indecency', 'indenture', 'indict', 'indifference', 'indignant', 'indignation', 'indoctrination', 'inept', 'inequality', 'inexcusable', 'infamous', 'infanticide', 'infantile', 'inferno', 'infidel', 'infidelity', 'inflict', 'infraction', 'inhibit', 'inhuman', 'inimical', 'injure', 'injurious', 'injury', 'injustice', 'inoperative', 'insane', 'insanity', 'insecure', 'insidious', 'insignificant', 'instinctive', 'insufficiency', 'insult', 'insulting', 'insurrection', 'intense', 'interminable', 'interrupt', 'intimidation', 'intolerable', 'intolerance', 'intolerant', 'intractable', 'intruder', 'intrusive', 'invade', 'invader', 'invasion', 'involution', 'involvement', 'irate', 'ire', 'irreconcilable', 'irritability', 'irritable', 'irritating', 'irritation', 'jab', 'jealous', 'jealousy', 'jeopardize', 'jerk', 'kick', 'kicking', 'kidnap', 'killing', 'lace', 'lagging', 'lash', 'latent', 'lava', 'lawlessness', 'lawsuit', 'lawyer', 'legalized', 'leukemia', 'libel', 'liberate', 'lie', 'lightning', 'limited', 'liquor', 'litigate', 'litigious', 'livid', 'loath', 'loathe', 'loathsome', 'lonely', 'lose', 'losing', 'loss', 'loudness', 'lunacy', 'lunatic', 'lying', 'lynch', 'mad', 'madden', 'madman', 'madness', 'malevolent', 'malice', 'malicious', 'malign', 'malignant', 'malpractice', 'mangle', 'maniac', 'manipulation', 'manslaughter', 'martial', 'masochism', 'massacre', 'mastery', 'meddle', 'melodrama', 'menace', 'menacing', 'mighty', 'militia', 'misbehavior', 'misconception', 'miserable', 'misery', 'mislead', 'misleading', 'misplace', 'misrepresented', 'misstatement', 'mistress', 'misunderstanding', 'mob', 'mocking', 'molestation', 'money', 'monstrosity', 'moody', 'moral', 'morals', 'morbidity', 'mortality', 'mosque', 'mosquito', 'mournful', 'muff', 'mug', 'mule', 'murder', 'murderer', 'murderous', 'musical', 'mutilation', 'mutiny', 'mutter', 'myopia', 'nag', 'nasty', 'negation', 'neglected', 'nepotism', 'nether', 'nettle', 'noisy', 'noncompliance', 'notoriety', 'nuisance', 'nurture', 'objection', 'obliging', 'obliterate', 'obliterated', 'oblivion', 'obnoxious', 'obscenity', 'obstacle', 'obstruct', 'obstructive', 'odious', 'offend', 'offended', 'offender', 'offense', 'offensive', 'onerous', 'opera', 'opinionated', 'opium', 'opponent', 'opposed', 'opposition', 'oppress', 'oppression', 'oppressive', 'oppressor', 'orc', 'orchestra', 'ordeal', 'oust', 'outburst', 'outcry', 'outrage', 'overbearing', 'overpowering', 'overpriced', 'owing', 'painful', 'paralysis', 'paralyzed', 'pare', 'patter', 'paucity', 'payback', 'penalty', 'penetration', 'penitentiary', 'perdition', 'pernicious', 'perpetrator', 'persecute', 'persecution', 'perverse', 'perversion', 'pervert', 'pessimism', 'pest', 'phony', 'picket', 'picketing', 'pillage', 'pique', 'pirate', 'pitfall', 'playful', 'plunder', 'poaching', 'poison', 'poisoned', 'poisonous', 'polemic', 'politics', 'possessed', 'possession', 'pound', 'poverty', 'pow', 'powerful', 'powerless', 'preclude', 'prejudice', 'prejudicial', 'presumptuous', 'pretending', 'prick', 'prison', 'prisoner', 'profane', 'profanity', 'prohibited', 'prosecute', 'provocation', 'provoking', 'pry', 'psychosis', 'punch', 'punished', 'punishing', 'punishment', 'punitive', 'quandary', 'quarrel', 'rabble', 'rabid', 'rage', 'raging', 'raid', 'rail', 'ram', 'rampage', 'ransom', 'rape', 'rapping', 'rascal', 'rating', 'rave', 'ravenous', 'raving', 'react', 'rebel', 'rebellion', 'recalcitrant', 'recession', 'recidivism', 'reckless', 'recklessness', 'reject', 'rejection', 'rejects', 'remand', 'remiss', 'remove', 'renegade', 'renounce', 'repay', 'repellent', 'reprimand', 'reprisal', 'reproach', 'repudiation', 'resent', 'resentful', 'resentment', 'resign', 'resistance', 'resisting', 'restitution', 'restrain', 'restriction', 'retaliate', 'retaliation', 'retaliatory', 'retract', 'retribution', 'revenge', 'reversal', 'revoke', 'revolt', 'revolting', 'revolution', 'revolver', 'revulsion', 'rheumatism', 'ribbon', 'ridicule', 'ridiculous', 'rifle', 'ringer', 'riot', 'riotous', 'rivalry', 'rob', 'robbery', 'rocket', 'rook', 'row', 'ruined', 'ruinous', 'ruthless', 'saber', 'sabotage', 'saloon', 'sarcasm', 'satanic', 'savage', 'savagery', 'scandalous', 'scapegoat', 'scar', 'scarcity', 'scare', 'schism', 'schizophrenia', 'scoff', 'scold', 'scolding', 'scorching', 'scorn', 'scorpion', 'scoundrel', 'scourge', 'scrapie', 'scream', 'screaming', 'screwed', 'sectarian', 'sedition', 'segregate', 'selfish', 'senseless', 'sentence', 'separatist', 'shackle', 'shaky', 'sham', 'sharpen', 'shatter', 'shell', 'shit', 'shiver', 'shock', 'shoddy', 'shoot', 'shooting', 'shoplifting', 'shortage', 'shot', 'shout', 'shove', 'shriek', 'shrill', 'shun', 'sickening', 'simmer', 'sin', 'sinful', 'sinister', 'sinner', 'sisterhood', 'sizzle', 'skewed', 'skid', 'skirmish', 'slam', 'slander', 'slap', 'slash', 'slaughter', 'slaughterhouse', 'slaughtering', 'slave', 'slavery', 'slay', 'slayer', 'slur', 'slut', 'sly', 'smack', 'smash', 'smell', 'smite', 'smother', 'smuggler', 'snarl', 'snarling', 'sneak', 'sneer', 'socialist', 'soldier', 'sordid', 'sore', 'spank', 'spanking', 'spat', 'spear', 'spine', 'spite', 'spiteful', 'squelch', 'stab', 'stalemate', 'standoff', 'standstill', 'steal', 'sterling', 'stifled', 'stigma', 'sting', 'stingy', 'stolen', 'stone', 'storm', 'storming', 'strained', 'strangle', 'strife', 'strike', 'stripped', 'struggle', 'subjugation', 'subsidy', 'subversion', 'subversive', 'sucker', 'sue', 'suffocation', 'suicidal', 'suicide', 'sullen', 'suppress', 'suppression', 'supremacy', 'surcharge', 'surly', 'suspicious', 'swastika', 'tackle', 'talons', 'tariff', 'taunt', 'tease', 'teasing', 'tempest', 'tension', 'terrible', 'terrorism', 'terrorist', 'terrorize', 'theft', 'theocratic', 'thief', 'thoughtless', 'thrash', 'threat', 'threaten', 'threatening', 'thresh', 'throttle', 'thug', 'thump', 'thundering', 'tiff', 'tighten', 'tirade', 'tolerate', 'torment', 'torpedo', 'tortious', 'torture', 'touchy', 'toughness', 'traitor', 'traumatic', 'treacherous', 'treachery', 'treason', 'treat', 'tree', 'tremor', 'trespass', 'trickery', 'tripping', 'troll', 'troublesome', 'tumult', 'tumultuous', 'turbulence', 'turmoil', 'tussle', 'tyrannical', 'tyrant', 'ulcer', 'ultimatum', 'unattainable', 'unbridled', 'uncaring', 'uncertain', 'uncontrollable', 'underpaid', 'undesirable', 'unequal', 'unfair', 'unfairness', 'unforgiving', 'unfriendly', 'unfulfilled', 'ungrateful', 'unhappy', 'unjust', 'unjustifiable', 'unkind', 'unlawful', 'unlucky', 'unpaid', 'unruly', 'unsettled', 'unsympathetic', 'unthinkable', 'untoward', 'untrustworthy', 'upheaval', 'uprising', 'upset', 'usurp', 'usurped', 'vampire', 'vehement', 'vendetta', 'vengeance', 'vengeful', 'venom', 'venomous', 'vent', 'vermin', 'versus', 'veto', 'vicious', 'victim', 'victimized', 'villainous', 'vindicate', 'vindictive', 'violation', 'violence', 'violent', 'violently', 'virulence', 'volatility', 'vote', 'vulgarity', 'waffle', 'warden', 'warfare', 'warlike', 'warp', 'warrior', 'wasted', 'wasteful', 'wench', 'whip', 'willful', 'wimpy', 'wince', 'wireless', 'witch', 'witchcraft', 'wop', 'words', 'worthless', 'wound', 'wrangling', 'wrath', 'wreak', 'wreck', 'wrecked', 'wretch', 'wring', 'wrongdoing', 'wrongful', 'wrongly', 'yell', 'yelp', 'youth']\n",
            "['absolution', 'abundance', 'abundant', 'accolade', 'accompaniment', 'accomplish', 'accomplished', 'achieve', 'achievement', 'acrobat', 'admirable', 'admiration', 'adorable', 'adoration', 'adore', 'advance', 'advent', 'advocacy', 'aesthetics', 'affection', 'affluence', 'alive', 'allure', 'aloha', 'amazingly', 'ambition', 'amen', 'amicable', 'amnesty', 'amour', 'amuse', 'amused', 'amusement', 'amusing', 'angel', 'angelic', 'animated', 'applause', 'appreciation', 'approve', 'ardent', 'art', 'aspiration', 'aspire', 'aspiring', 'astonishment', 'atone', 'auspicious', 'authentic', 'award', 'baby', 'balm', 'banquet', 'baptismal', 'basketball', 'beach', 'beam', 'beaming', 'beautification', 'beautiful', 'beautify', 'beauty', 'beer', 'befriend', 'benevolence', 'benign', 'betrothed', 'birth', 'birthday', 'bless', 'blessed', 'blessing', 'blessings', 'bliss', 'blissful', 'bloom', 'blossom', 'boisterous', 'bonanza', 'bonus', 'bountiful', 'bounty', 'bouquet', 'bridal', 'bride', 'bridegroom', 'bridesmaid', 'brighten', 'brilliant', 'brotherly', 'buddy', 'buss', 'calf', 'candid', 'captivate', 'carol', 'cash', 'cathedral', 'celebrated', 'celebrating', 'celebration', 'celebrity', 'celestial', 'ceremony', 'champion', 'chant', 'charitable', 'charity', 'charmed', 'cheer', 'cheerful', 'cheerfulness', 'cheering', 'cheery', 'cherish', 'child', 'childhood', 'chirp', 'chocolate', 'choir', 'choral', 'chuckle', 'church', 'civilized', 'clap', 'classics', 'clean', 'climax', 'closeness', 'closure', 'clown', 'comfort', 'commemorate', 'commemoration', 'commendable', 'communion', 'companion', 'compensate', 'complement', 'completing', 'completion', 'compliment', 'conciliation', 'confidence', 'confident', 'congratulatory', 'connoisseur', 'consecration', 'content', 'coronation', 'courtship', 'cove', 'cradle', 'cream', 'create', 'crescendo', 'crowning', 'cuddle', 'dance', 'darling', 'daughter', 'dawn', 'deal', 'delicious', 'delight', 'delighted', 'delightful', 'deliverance', 'demonstrative', 'destination', 'devout', 'diamond', 'diary', 'ditty', 'doll', 'dolphin', 'dove', 'eager', 'eagerness', 'ecstasy', 'ecstatic', 'edification', 'ejaculation', 'elated', 'electric', 'elegance', 'elegant', 'elevation', 'elite', 'emancipation', 'embrace', 'enchant', 'enchanted', 'enchanting', 'encourage', 'endless', 'engaged', 'engaging', 'enjoy', 'enjoying', 'enlighten', 'enlightenment', 'enliven', 'entertain', 'entertained', 'entertaining', 'entertainment', 'enthusiasm', 'enthusiast', 'equality', 'erotic', 'established', 'esteem', 'evergreen', 'exalt', 'exaltation', 'exalted', 'exceed', 'excel', 'excellence', 'excellent', 'excitation', 'excite', 'excited', 'excitement', 'exciting', 'exhilaration', 'expedient', 'exquisite', 'exuberance', 'fain', 'faith', 'familiarity', 'fancy', 'fanfare', 'favorable', 'favorite', 'feat', 'feeling', 'felicity', 'fervor', 'festival', 'festive', 'fete', 'fidelity', 'fiesta', 'finally', 'firstborn', 'fitting', 'flattering', 'flirt', 'fondness', 'food', 'football', 'forefathers', 'fortitude', 'fortune', 'found', 'fraternal', 'freedom', 'freely', 'friend', 'friendliness', 'friendly', 'friendship', 'frisky', 'frolic', 'fulfill', 'fulfillment', 'fun', 'gain', 'garden', 'gem', 'generosity', 'generous', 'genial', 'gift', 'giggle', 'glad', 'gladness', 'glee', 'glide', 'glimmer', 'glitter', 'glorification', 'glorify', 'glory', 'glow', 'god', 'godly', 'godsend', 'good', 'goodness', 'gorgeous', 'graduation', 'grandchildren', 'grant', 'gratify', 'gratitude', 'greatness', 'green', 'grin', 'grow', 'gush', 'happily', 'happiness', 'happy', 'hardy', 'harmoniously', 'harmony', 'harvest', 'heal', 'healing', 'healthful', 'heartfelt', 'heartily', 'heavenly', 'heavens', 'hedonism', 'helpful', 'hero', 'heroic', 'heroism', 'heyday', 'highest', 'hilarious', 'hilarity', 'hire', 'hobby', 'holiday', 'holiness', 'honest', 'honeymoon', 'hope', 'hopeful', 'hug', 'humanitarian', 'humanity', 'humorous', 'hurrah', 'hymn', 'illuminate', 'illumination', 'immaculate', 'immerse', 'improve', 'improvement', 'inauguration', 'income', 'independence', 'infant', 'infinity', 'inheritance', 'inseparable', 'inspiration', 'inspire', 'inspired', 'intelligence', 'intense', 'intimate', 'intimately', 'invite', 'inviting', 'jackpot', 'jest', 'joker', 'journey', 'jovial', 'joy', 'joyful', 'joyous', 'jubilant', 'jubilee', 'jump', 'kind', 'kindred', 'kiss', 'kitten', 'kudos', 'labor', 'lamb', 'laugh', 'laughing', 'laughter', 'laurels', 'legalized', 'leisure', 'liberate', 'liberation', 'liberty', 'liking', 'liquor', 'lovable', 'love', 'lovely', 'lovemaking', 'lover', 'loving', 'loyal', 'luck', 'lucky', 'luscious', 'luster', 'luxurious', 'luxury', 'lyre', 'lyrical', 'magical', 'magnificence', 'magnificent', 'majestic', 'majority', 'marriage', 'marrow', 'marry', 'marvelous', 'marvelously', 'massage', 'masterpiece', 'mastery', 'matrimony', 'medal', 'meditate', 'memorable', 'meritorious', 'merriment', 'merry', 'midwife', 'mighty', 'ministry', 'miracle', 'miraculous', 'mirth', 'money', 'morals', 'mother', 'motherhood', 'music', 'musical', 'nap', 'notable', 'nursery', 'nurture', 'oasis', 'obliging', 'obtainable', 'opera', 'opportune', 'optimism', 'orchestra', 'ordination', 'organ', 'organization', 'orgasm', 'outburst', 'outstanding', 'overjoyed', 'parade', 'paragon', 'passion', 'passionate', 'pastor', 'pastry', 'pay', 'peace', 'peaceful', 'perfect', 'perfection', 'picnic', 'picturesque', 'playful', 'playground', 'playhouse', 'pleasant', 'pleased', 'pleasurable', 'pledge', 'possess', 'powerful', 'practiced', 'praise', 'praised', 'praiseworthy', 'pray', 'precious', 'present', 'preservative', 'prestige', 'presto', 'pretty', 'prevail', 'pride', 'priesthood', 'princely', 'privileged', 'procession', 'proficiency', 'progress', 'progression', 'promise', 'prosper', 'prosperous', 'proud', 'providing', 'purify', 'purr', 'quaint', 'radiance', 'radiant', 'rapt', 'rapture', 'rave', 'raving', 'readiness', 'receiving', 'reconciliation', 'recreation', 'recreational', 'rejoice', 'rejoicing', 'rekindle', 'remarkable', 'remedy', 'renovation', 'repay', 'reproductive', 'rescue', 'resources', 'respect', 'respite', 'resplendent', 'restorative', 'retirement', 'revel', 'revels', 'revere', 'reverence', 'reverend', 'reverie', 'revival', 'reward', 'rhythmical', 'ribbon', 'rising', 'roadster', 'rollicking', 'romance', 'romantic', 'romanticism', 'romp', 'safe', 'saint', 'saintly', 'salary', 'salutary', 'salute', 'salvation', 'sanctification', 'sanctify', 'sanctuary', 'satisfied', 'save', 'savor', 'scholarship', 'score', 'sensational', 'sensual', 'sensuality', 'sensuous', 'serenity', 'sex', 'share', 'shining', 'shopping', 'silly', 'simplify', 'sing', 'smile', 'smiling', 'sonnet', 'sonorous', 'soothing', 'soundness', 'spa', 'spaniel', 'sparkle', 'special', 'spirits', 'splendid', 'splendor', 'spouse', 'star', 'starry', 'sterling', 'strengthening', 'sublimation', 'succeed', 'succeeding', 'success', 'successful', 'sun', 'sunny', 'sunshine', 'superman', 'superstar', 'supporter', 'supremacy', 'surprise', 'sweet', 'sweetheart', 'sweets', 'swim', 'symmetry', 'sympathetic', 'symphony', 'synchronize', 'tantalizing', 'teach', 'tender', 'tenderness', 'thankful', 'thanksgiving', 'therapeutic', 'thrill', 'thrilling', 'thriving', 'tickle', 'tinsel', 'toast', 'tranquil', 'tranquility', 'transcendence', 'treasure', 'treat', 'tree', 'triumph', 'triumphant', 'trophy', 'truce', True, 'twinkle', 'unbeaten', 'unconstrained', 'undying', 'unexpected', 'unification', 'unsurpassed', 'untie', 'uplift', 'utopian', 'vacation', 'venerable', 'veracity', 'vernal', 'victor', 'victorious', 'victory', 'vindication', 'virtuous', 'visionary', 'visitor', 'vitality', 'vivacious', 'vivid', 'volunteer', 'voluptuous', 'vote', 'vow', 'wages', 'wealth', 'weight', 'welcomed', 'whim', 'whimsical', 'white', 'whiteness', 'winner', 'winning', 'winnings', 'witty', 'wonderful', 'wonderfully', 'worship', 'yearning', 'young', 'youth', 'zeal', 'zealous', 'zest']\n"
          ],
          "name": "stdout"
        }
      ]
    },
    {
      "cell_type": "code",
      "metadata": {
        "id": "SVCGYOwZwF9K",
        "colab_type": "code",
        "colab": {}
      },
      "source": [
        "angercounter = 0\n",
        "anticipationcounter = 0\n",
        "disgustcounter = 0\n",
        "fearcounter = 0\n",
        "joycounter = 0\n",
        "sadnesscounter = 0\n",
        "surprisecounter = 0\n",
        "trustcounter = 0"
      ],
      "execution_count": 0,
      "outputs": []
    },
    {
      "cell_type": "code",
      "metadata": {
        "id": "y664nd7PBoU5",
        "colab_type": "code",
        "outputId": "45b5bf25-d2c9-45ba-ed30-1068c9220616",
        "colab": {
          "base_uri": "https://localhost:8080/",
          "height": 72
        }
      },
      "source": [
        "name = input(\"Hey. My name is Ever. What's your name? \")\n",
        "sentence = input(\"How are you? Tell me about your day. \")"
      ],
      "execution_count": 0,
      "outputs": [
        {
          "output_type": "stream",
          "text": [
            "Hey. My name is Ever. What's your name? Meghan\n",
            "How are you? Tell me about your day. The day my 7 month old sister had heart surgery. I was terrified and praying everything would go according to plan. I felt fear.\n"
          ],
          "name": "stdout"
        }
      ]
    },
    {
      "cell_type": "code",
      "metadata": {
        "id": "qlFIa9jHMnzS",
        "colab_type": "code",
        "outputId": "afa94887-a7d3-46f4-d165-dd8d05346600",
        "colab": {
          "base_uri": "https://localhost:8080/",
          "height": 426
        }
      },
      "source": [
        "sentence = sentence.split()\n",
        "revise = [w.strip(string.punctuation) for w in sentence]\n",
        "r = set(revise)\n",
        "r"
      ],
      "execution_count": 0,
      "outputs": [
        {
          "output_type": "execute_result",
          "data": {
            "text/plain": [
              "{'7',\n",
              " 'I',\n",
              " 'The',\n",
              " 'according',\n",
              " 'and',\n",
              " 'day',\n",
              " 'everything',\n",
              " 'fear',\n",
              " 'felt',\n",
              " 'go',\n",
              " 'had',\n",
              " 'heart',\n",
              " 'month',\n",
              " 'my',\n",
              " 'old',\n",
              " 'plan',\n",
              " 'praying',\n",
              " 'sister',\n",
              " 'surgery',\n",
              " 'terrified',\n",
              " 'to',\n",
              " 'was',\n",
              " 'would'}"
            ]
          },
          "metadata": {
            "tags": []
          },
          "execution_count": 82
        }
      ]
    },
    {
      "cell_type": "code",
      "metadata": {
        "id": "rjkhFYZGwKQI",
        "colab_type": "code",
        "colab": {}
      },
      "source": [
        "from collections import Counter"
      ],
      "execution_count": 0,
      "outputs": []
    },
    {
      "cell_type": "code",
      "metadata": {
        "id": "iF_lNDcSwLpf",
        "colab_type": "code",
        "colab": {}
      },
      "source": [
        "ang = []\n",
        "ant = []\n",
        "dis = [] \n",
        "fea = [] \n",
        "joy = []\n",
        "sad = []\n",
        "sur = [] \n",
        "tru = []\n",
        "emotionlists = [ang, ant, dis, fea, joy, sad, sur, tru]"
      ],
      "execution_count": 0,
      "outputs": []
    },
    {
      "cell_type": "code",
      "metadata": {
        "id": "pj8q8s0Sw6W8",
        "colab_type": "code",
        "outputId": "70fe9888-4b11-4fb6-b206-26415ab482af",
        "colab": {
          "base_uri": "https://localhost:8080/",
          "height": 106
        }
      },
      "source": [
        "for word in day:\n",
        "    if word in angerwords:\n",
        "      print(word, \"anger\")\n",
        "      angercounter = angercounter + 1\n",
        "      ang.append(word)\n",
        "    else: pass\n",
        "    if word in anticipationwords:\n",
        "      print(word, \"anticipation\")\n",
        "      anticipationcounter = anticipationcounter + 1\n",
        "      ant.append(word)\n",
        "    else: pass\n",
        "    if word in disgustwords:\n",
        "      print(word, \"disgust\")\n",
        "      disgustcounter = disgustcounter + 1\n",
        "      dis.append(word)\n",
        "    else: pass\n",
        "    if word in fearwords:\n",
        "      print(word, \"fear\")\n",
        "      fearcounter = fearcounter + 1\n",
        "      fea.append(word)\n",
        "    else: pass\n",
        "    if word in joywords:\n",
        "      print(word, \"joy\")\n",
        "      joycounter = joycounter +1\n",
        "      joy.append(word)\n",
        "    else: pass\n",
        "    if word in sadnesswords:\n",
        "      print(word, \"sadness\")\n",
        "      sadnesscounter = sadnesscounter + 1\n",
        "      sad.append(word)\n",
        "    else: pass\n",
        "    if word in surprisewords:\n",
        "      print(word, \"surprise\")\n",
        "      surprisecounter = surprisecounter + 1\n",
        "      sur.append(word)\n",
        "    else: pass\n",
        "    if word in trustwords:\n",
        "      print(word, \"trust\")\n",
        "      trustcounter = trustcounter + 1\n",
        "      tru.append(word)\n",
        "    else: pass"
      ],
      "execution_count": 0,
      "outputs": [
        {
          "output_type": "stream",
          "text": [
            "surgery fear\n",
            "surgery sadness\n",
            "plan anticipation\n",
            "fear anger\n",
            "fear fear\n"
          ],
          "name": "stdout"
        }
      ]
    },
    {
      "cell_type": "code",
      "metadata": {
        "id": "xNcOpvNWWjzh",
        "colab_type": "code",
        "outputId": "f346cafb-1e50-481b-fc6a-a4f76bac779e",
        "colab": {
          "base_uri": "https://localhost:8080/",
          "height": 159
        }
      },
      "source": [
        "print(\"Anger: \", angercounter, ang)\n",
        "print(\"Anticipation: \", anticipationcounter, ant)\n",
        "print(\"Disgust: \", disgustcounter, dis)\n",
        "print(\"Fear: \", fearcounter, fea)\n",
        "print(\"Joy: \", joycounter, joy)\n",
        "print(\"Sadness: \", sadnesscounter, sad)\n",
        "print(\"Surprise: \", surprisecounter, sur)\n",
        "print(\"Trust: \", trustcounter, tru)"
      ],
      "execution_count": 0,
      "outputs": [
        {
          "output_type": "stream",
          "text": [
            "Anger:  1 ['fear']\n",
            "Anticipation:  1 ['plan']\n",
            "Disgust:  0 []\n",
            "Fear:  2 ['surgery', 'fear']\n",
            "Joy:  0 []\n",
            "Sadness:  1 ['surgery']\n",
            "Surprise:  0 []\n",
            "Trust:  0 []\n"
          ],
          "name": "stdout"
        }
      ]
    },
    {
      "cell_type": "code",
      "metadata": {
        "id": "s4za57bF6CSF",
        "colab_type": "code",
        "outputId": "248ebf45-1cb6-4d60-b33d-ce2bbde82516",
        "colab": {
          "base_uri": "https://localhost:8080/",
          "height": 141
        }
      },
      "source": [
        "if angercounter >= anticipationcounter and angercounter >= disgustcounter and angercounter >= fearcounter and angercounter >= joycounter and angercounter >= sadnesscounter and angercounter >= surprisecounter and angercounter >= trustcounter:\n",
        "  print(name, \", you are feeling angry.\")\n",
        "  yesorno = input(\"Would you information on managing your anger? Type 'yes' to proceed. \")\n",
        "  if yesorno.lower() == 'yes':\n",
        "    print(\"Here are some ways to manage your anger: \")\n",
        "    print(\" -Think before you speak.\\n -Get some exercise.\\n -Take a timeout.\\n -Identify possible solutions.\\n -Stick with 'I' statements.\\n -Don't hold a grudge.\\n -Use humor to release tension.\")\n",
        "\n",
        "if anticipationcounter >= angercounter and anticipationcounter >= disgustcounter and anticipationcounter >= fearcounter and anticipationcounter >= joycounter and anticipationcounter >= sadnesscounter and anticipationcounter >= surprisecounter and anticipationcounter >= trustcounter:\n",
        "  print(name, \", you are feeling anticipation.\")\n",
        "  yesorno = input(\"Would you information on managing your anticipation? Type 'yes' to proceed. \")\n",
        "  if yesorno.lower() == 'yes':\n",
        "    print(\"Here are some ways to manage your anticipation: \")\n",
        "    print(\" -Focus on the positive and fun aspects of the upcoming event.\\n -Remind yourself that the physical sensations you feel when anxious are harmless.\\n -Practice mindfulness.\")\n",
        "\n",
        "if disgustcounter >= angercounter and disgustcounter >= anticipationcounter and disgustcounter >= fearcounter and disgustcounter >= joycounter and disgustcounter >= sadnesscounter and disgustcounter >= surprisecounter and disgustcounter >= trustcounter:\n",
        "  print(name, \", you are feeling disgust.\")\n",
        "  yesorno = input(\"Would you information on managing your disgust? Type 'yes' to proceed. \")\n",
        "  if yesorno.lower() == 'yes':\n",
        "    print(\"Here are some ways to manage your disgust: \")\n",
        "    print(\" -Notice when judmental thoughts pop into your head.\\n -Remember to breathe.\\n -Don't let your feelings control your thinking.\\n -Do the opposite of what you're feeling.\\n -Remember, it's not about you.\\n -Talk to someone you trust about your feelings.\")\n",
        "\n",
        "if fearcounter >= angercounter and fearcounter >= anticipationcounter and fearcounter >= disgustcounter and fearcounter >= joycounter and fearcounter >= sadnesscounter and fearcounter >= surprisecounter and fearcounter >= trustcounter:\n",
        "  print(name, \", you are feeling fear.\")\n",
        "  yesorno = input(\"Would you information on managing your fear? Type 'yes' to proceed. \")\n",
        "  if yesorno.lower() == 'yes':\n",
        "    print(\"Here are some ways to manage your fear: \")\n",
        "    print(\" Face your fear if you can.\\n Exercise.\\n Relax, do yoga or meditate.\\n If you're religious, find ways to connect to something bigger than yourself.\")\n",
        "\n",
        "\n",
        "if joycounter >= angercounter and joycounter >= anticipationcounter and joycounter >= disgustcounter and joycounter >= fearcounter and joycounter >= sadnesscounter and joycounter >= surprisecounter and joycounter >= trustcounter:\n",
        "  print(name, \", you are feeling joy.\")\n",
        "  yesorno = input(\"Would you information on managing your joy? Type 'yes' to proceed. \")\n",
        "  if yesorno.lower() == 'yes':\n",
        "    print(\"Here are some ways to manage your joy: \")\n",
        "    print(\"\")\n",
        "\n",
        "if sadnesscounter >= angercounter and sadnesscounter >= anticipationcounter and sadnesscounter >= disgustcounter and sadnesscounter >= fearcounter and sadnesscounter >= joycounter and sadnesscounter >= surprisecounter and sadnesscounter >= trustcounter:\n",
        "  print(name, \", you are feeling sadness.\")\n",
        "  yesorno = input(\"Would you information on managing your sadness? Type 'yes' to proceed. \")\n",
        "  if yesorno.lower() == 'yes':\n",
        "    print(\"Here are some ways to manage your sadness: \")\n",
        "    print(\" -Allow yourself to feel sad.\\n -Spend time with friends or family.\\n -Think about why you're feeling this way.\\n -Cry if you feel like it.\\n -Listen to music.\\n -Write in a journal.\")\n",
        "\n",
        "if surprisecounter >= angercounter and surprisecounter >= anticipationcounter and surprisecounter >= disgustcounter and surprisecounter >= fearcounter and surprisecounter >= joycounter and surprisecounter >= sadnesscounter and surprisecounter >= trustcounter:\n",
        "  print(name, \", you are feeling surprise.\")\n",
        "  yesorno = input(\"Would you information on managing your surprise? Type 'yes' to proceed. \")\n",
        "  if yesorno.lower() == 'yes':\n",
        "    print(\"Here are some ways to manage your surprise:\")\n",
        "    print(\"\")\n",
        "\n",
        "if trustcounter >= angercounter and trustcounter >= anticipationcounter and trustcounter >= disgustcounter and trustcounter >= fearcounter and trustcounter >= joycounter and trustcounter >= sadnesscounter and trustcounter >= surprisecounter:\n",
        "  print(name, \", you are feeling trust.\")\n",
        "  yesorno = input(\"Would you information on managing your trust? Type 'yes' to proceed. \")\n",
        "  if yesorno.lower() == 'yes':\n",
        "    print(\"Here are some ways to manage your trust: \")\n",
        "    print(\"\")"
      ],
      "execution_count": 0,
      "outputs": [
        {
          "output_type": "stream",
          "text": [
            "Meghan , you are feeling fear.\n",
            "Would you information on managing your fear? Type 'yes' to proceed. yes\n",
            "Here are some ways to manage your fear: \n",
            " Face your fear if you can.\n",
            " Exercise.\n",
            " Relax, do yoga or meditate.\n",
            " If you're religious, find ways to connect to something bigger than yourself.\n"
          ],
          "name": "stdout"
        }
      ]
    },
    {
      "cell_type": "markdown",
      "metadata": {
        "id": "WVNTd628e26D",
        "colab_type": "text"
      },
      "source": [
        "for the positive emotions, make comments like awesome or great!\n",
        "\n",
        "for the negative emotions, say I'm sorry to hear that or let's try to work on overcoming these negative feelings.\n",
        "\n",
        "remember, negative does not mean wrong or bad, accept your emotions and move past them\n"
      ]
    }
  ]
}
