{
  "nbformat": 4,
  "nbformat_minor": 0,
  "metadata": {
    "colab": {
      "name": "Emotion Lexicon Pandas",
      "provenance": [],
      "collapsed_sections": [],
      "include_colab_link": true
    },
    "kernelspec": {
      "name": "python3",
      "display_name": "Python 3"
    }
  },
  "cells": [
    {
      "cell_type": "markdown",
      "metadata": {
        "id": "view-in-github",
        "colab_type": "text"
      },
      "source": [
        "<a href=\"https://colab.research.google.com/github/meghanrenshaw/everproject/blob/master/Emotion_Lexicon_Pandas.ipynb\" target=\"_parent\"><img src=\"https://colab.research.google.com/assets/colab-badge.svg\" alt=\"Open In Colab\"/></a>"
      ]
    },
    {
      "cell_type": "code",
      "metadata": {
        "id": "AblZSVzTYfKO",
        "colab_type": "code",
        "colab": {}
      },
      "source": [
        "fear = {}\n",
        "sad = {}\n",
        "joy = {}\n",
        "anger = {}\n",
        "feeling = [fear, sad, joy, anger]\n",
        "\n",
        "def joy_adds():\n",
        "  start = input(\"type joy\")\n",
        "  while start.lower() == 'joy':\n",
        "    key = input(\"word being added to dict \")\n",
        "    value = input(\"rating for word \")\n",
        "    if key != \"\":\n",
        "      joy[key] = value\n",
        "    start = input(\"type joy \")\n",
        "    print(\"done searching!\")\n",
        "  for key in joy:\n",
        "    print(key, \" : \", value)"
      ],
      "execution_count": 0,
      "outputs": []
    },
    {
      "cell_type": "code",
      "metadata": {
        "id": "FjBTS1ADYi39",
        "colab_type": "code",
        "colab": {}
      },
      "source": [
        "def sad_adds():\n",
        "  start = input(\"type sad\")\n",
        "  while start.lower() == 'sad':\n",
        "    key = input(\"word being added to dict \")\n",
        "    value = input(\"rating for word \")\n",
        "    if key != \"\":\n",
        "      sad[key] = value\n",
        "    start = input(\"type sad \")\n",
        "    print(\"done searching!\")\n",
        "  for key in sad:\n",
        "    print(key, \" : \", value)"
      ],
      "execution_count": 0,
      "outputs": []
    },
    {
      "cell_type": "code",
      "metadata": {
        "id": "piGx29AwYkZh",
        "colab_type": "code",
        "colab": {}
      },
      "source": [
        "def fear_adds():\n",
        "  start = input(\"type fear\")\n",
        "  while start.lower() == 'fear':\n",
        "    key = input(\"word being added to dict \")\n",
        "    value = input(\"rating for word \")\n",
        "    if key != \"\":\n",
        "      fear[key] = value\n",
        "    start = input(\"type fear \")\n",
        "    print(\"done searching!\")\n",
        "  for key in fear:\n",
        "    print(key, \" : \", value)"
      ],
      "execution_count": 0,
      "outputs": []
    },
    {
      "cell_type": "code",
      "metadata": {
        "id": "Ugr_ySdPYjpL",
        "colab_type": "code",
        "colab": {}
      },
      "source": [
        "def anger_adds():\n",
        "  start = input(\"type anger\")\n",
        "  while start.lower() == 'anger':\n",
        "    key = input(\"word being added to dict \")\n",
        "    value = input(\"rating for word \")\n",
        "    if key != \"\":\n",
        "      anger[key] = value\n",
        "    start = input(\"type anger \")\n",
        "    print(\"done searching!\")\n",
        "  for key in anger:\n",
        "    print(key, \" : \", value)"
      ],
      "execution_count": 0,
      "outputs": []
    },
    {
      "cell_type": "code",
      "metadata": {
        "id": "VY6zIvBbpS_q",
        "colab_type": "code",
        "colab": {}
      },
      "source": [
        "joy = "
      ],
      "execution_count": 0,
      "outputs": []
    },
    {
      "cell_type": "code",
      "metadata": {
        "id": "_E2SVui1oEqm",
        "colab_type": "code",
        "colab": {}
      },
      "source": [
        "sentence = \"Today, I am very upset. I didn't get any candy.\""
      ],
      "execution_count": 0,
      "outputs": []
    },
    {
      "cell_type": "code",
      "metadata": {
        "id": "NKmKhKoxoKSy",
        "colab_type": "code",
        "colab": {}
      },
      "source": [
        "new = sentence.split()\n",
        "\n",
        "usedwords = []\n",
        "counter = 0\n",
        "\n",
        "for word in new:\n",
        "  if word in joy:\n",
        "    usedwords.append(word)\n",
        "    counter = counter + 1\n",
        "    print(word, joy[word], counter)\n",
        "  else:\n",
        "    pass\n",
        "\n",
        "print(\"You used \", usedwords, \". \")"
      ],
      "execution_count": 0,
      "outputs": []
    },
    {
      "cell_type": "code",
      "metadata": {
        "id": "bn5LsFj0pFzS",
        "colab_type": "code",
        "colab": {}
      },
      "source": [
        "if value > 0.500:\n",
        "  print(key, value)"
      ],
      "execution_count": 0,
      "outputs": []
    },
    {
      "cell_type": "code",
      "metadata": {
        "id": "P6hJErVkuTfQ",
        "colab_type": "code",
        "outputId": "3676bd5c-00de-4822-d8ac-8c5d21557335",
        "colab": {
          "base_uri": "https://localhost:8080/",
          "height": 72
        }
      },
      "source": [
        "import pandas as pd\n",
        "import openpyxl, pprint\n",
        "wb = openpyxl.load_workbook('emotionlexicon-english.txt.xlsx')\n",
        "sheet = wb.get_sheet_by_name('emotionLexicon')"
      ],
      "execution_count": 0,
      "outputs": [
        {
          "output_type": "stream",
          "text": [
            "/usr/local/lib/python3.6/dist-packages/ipykernel_launcher.py:4: DeprecationWarning: Call to deprecated function get_sheet_by_name (Use wb[sheetname]).\n",
            "  after removing the cwd from sys.path.\n"
          ],
          "name": "stderr"
        }
      ]
    },
    {
      "cell_type": "code",
      "metadata": {
        "id": "9Ap3MaJjcVYq",
        "colab_type": "code",
        "outputId": "d75cc26f-d2c8-45ba-c1d9-276cd7a08b60",
        "colab": {
          "base_uri": "https://localhost:8080/",
          "height": 428
        }
      },
      "source": [
        "emotionsData = pd.read_excel('emotionlexicon-english.txt.xlsx', index_col=0)\n",
        "emotionsData"
      ],
      "execution_count": 0,
      "outputs": [
        {
          "output_type": "execute_result",
          "data": {
            "text/html": [
              "<div>\n",
              "<style scoped>\n",
              "    .dataframe tbody tr th:only-of-type {\n",
              "        vertical-align: middle;\n",
              "    }\n",
              "\n",
              "    .dataframe tbody tr th {\n",
              "        vertical-align: top;\n",
              "    }\n",
              "\n",
              "    .dataframe thead th {\n",
              "        text-align: right;\n",
              "    }\n",
              "</style>\n",
              "<table border=\"1\" class=\"dataframe\">\n",
              "  <thead>\n",
              "    <tr style=\"text-align: right;\">\n",
              "      <th></th>\n",
              "      <th>Anger</th>\n",
              "      <th>Anticipation</th>\n",
              "      <th>Disgust</th>\n",
              "      <th>Fear</th>\n",
              "      <th>Joy</th>\n",
              "      <th>Sadness</th>\n",
              "      <th>Surprise</th>\n",
              "      <th>Trust</th>\n",
              "    </tr>\n",
              "    <tr>\n",
              "      <th>words</th>\n",
              "      <th></th>\n",
              "      <th></th>\n",
              "      <th></th>\n",
              "      <th></th>\n",
              "      <th></th>\n",
              "      <th></th>\n",
              "      <th></th>\n",
              "      <th></th>\n",
              "    </tr>\n",
              "  </thead>\n",
              "  <tbody>\n",
              "    <tr>\n",
              "      <th>aback</th>\n",
              "      <td>0</td>\n",
              "      <td>0</td>\n",
              "      <td>0</td>\n",
              "      <td>0</td>\n",
              "      <td>0</td>\n",
              "      <td>0</td>\n",
              "      <td>0</td>\n",
              "      <td>0</td>\n",
              "    </tr>\n",
              "    <tr>\n",
              "      <th>abacus</th>\n",
              "      <td>0</td>\n",
              "      <td>0</td>\n",
              "      <td>0</td>\n",
              "      <td>0</td>\n",
              "      <td>0</td>\n",
              "      <td>0</td>\n",
              "      <td>0</td>\n",
              "      <td>1</td>\n",
              "    </tr>\n",
              "    <tr>\n",
              "      <th>abandon</th>\n",
              "      <td>0</td>\n",
              "      <td>0</td>\n",
              "      <td>0</td>\n",
              "      <td>1</td>\n",
              "      <td>0</td>\n",
              "      <td>1</td>\n",
              "      <td>0</td>\n",
              "      <td>0</td>\n",
              "    </tr>\n",
              "    <tr>\n",
              "      <th>abandoned</th>\n",
              "      <td>1</td>\n",
              "      <td>0</td>\n",
              "      <td>0</td>\n",
              "      <td>1</td>\n",
              "      <td>0</td>\n",
              "      <td>1</td>\n",
              "      <td>0</td>\n",
              "      <td>0</td>\n",
              "    </tr>\n",
              "    <tr>\n",
              "      <th>abandonment</th>\n",
              "      <td>1</td>\n",
              "      <td>0</td>\n",
              "      <td>0</td>\n",
              "      <td>1</td>\n",
              "      <td>0</td>\n",
              "      <td>1</td>\n",
              "      <td>1</td>\n",
              "      <td>0</td>\n",
              "    </tr>\n",
              "    <tr>\n",
              "      <th>...</th>\n",
              "      <td>...</td>\n",
              "      <td>...</td>\n",
              "      <td>...</td>\n",
              "      <td>...</td>\n",
              "      <td>...</td>\n",
              "      <td>...</td>\n",
              "      <td>...</td>\n",
              "      <td>...</td>\n",
              "    </tr>\n",
              "    <tr>\n",
              "      <th>zone</th>\n",
              "      <td>0</td>\n",
              "      <td>0</td>\n",
              "      <td>0</td>\n",
              "      <td>0</td>\n",
              "      <td>0</td>\n",
              "      <td>0</td>\n",
              "      <td>0</td>\n",
              "      <td>0</td>\n",
              "    </tr>\n",
              "    <tr>\n",
              "      <th>zoo</th>\n",
              "      <td>0</td>\n",
              "      <td>0</td>\n",
              "      <td>0</td>\n",
              "      <td>0</td>\n",
              "      <td>0</td>\n",
              "      <td>0</td>\n",
              "      <td>0</td>\n",
              "      <td>0</td>\n",
              "    </tr>\n",
              "    <tr>\n",
              "      <th>zoological</th>\n",
              "      <td>0</td>\n",
              "      <td>0</td>\n",
              "      <td>0</td>\n",
              "      <td>0</td>\n",
              "      <td>0</td>\n",
              "      <td>0</td>\n",
              "      <td>0</td>\n",
              "      <td>0</td>\n",
              "    </tr>\n",
              "    <tr>\n",
              "      <th>zoology</th>\n",
              "      <td>0</td>\n",
              "      <td>0</td>\n",
              "      <td>0</td>\n",
              "      <td>0</td>\n",
              "      <td>0</td>\n",
              "      <td>0</td>\n",
              "      <td>0</td>\n",
              "      <td>0</td>\n",
              "    </tr>\n",
              "    <tr>\n",
              "      <th>zoom</th>\n",
              "      <td>0</td>\n",
              "      <td>0</td>\n",
              "      <td>0</td>\n",
              "      <td>0</td>\n",
              "      <td>0</td>\n",
              "      <td>0</td>\n",
              "      <td>0</td>\n",
              "      <td>0</td>\n",
              "    </tr>\n",
              "  </tbody>\n",
              "</table>\n",
              "<p>14182 rows × 8 columns</p>\n",
              "</div>"
            ],
            "text/plain": [
              "             Anger  Anticipation  Disgust  Fear  Joy  Sadness  Surprise  Trust\n",
              "words                                                                         \n",
              "aback            0             0        0     0    0        0         0      0\n",
              "abacus           0             0        0     0    0        0         0      1\n",
              "abandon          0             0        0     1    0        1         0      0\n",
              "abandoned        1             0        0     1    0        1         0      0\n",
              "abandonment      1             0        0     1    0        1         1      0\n",
              "...            ...           ...      ...   ...  ...      ...       ...    ...\n",
              "zone             0             0        0     0    0        0         0      0\n",
              "zoo              0             0        0     0    0        0         0      0\n",
              "zoological       0             0        0     0    0        0         0      0\n",
              "zoology          0             0        0     0    0        0         0      0\n",
              "zoom             0             0        0     0    0        0         0      0\n",
              "\n",
              "[14182 rows x 8 columns]"
            ]
          },
          "metadata": {
            "tags": []
          },
          "execution_count": 130
        }
      ]
    },
    {
      "cell_type": "code",
      "metadata": {
        "id": "HIKY7pd4DKwj",
        "colab_type": "code",
        "colab": {}
      },
      "source": [
        "anger = col=1"
      ],
      "execution_count": 0,
      "outputs": []
    },
    {
      "cell_type": "code",
      "metadata": {
        "id": "5bgHyj_DCyFK",
        "colab_type": "code",
        "outputId": "7c4c2cc8-cb39-4880-e8b1-5a1e438e680f",
        "colab": {
          "base_uri": "https://localhost:8080/",
          "height": 177
        }
      },
      "source": [
        "newword = emotionsData.loc['freedom']\n",
        "newword"
      ],
      "execution_count": 0,
      "outputs": [
        {
          "output_type": "execute_result",
          "data": {
            "text/plain": [
              "Anger           0\n",
              "Anticipation    0\n",
              "Disgust         0\n",
              "Fear            0\n",
              "Joy             1\n",
              "Sadness         0\n",
              "Surprise        0\n",
              "Trust           1\n",
              "Name: freedom, dtype: int64"
            ]
          },
          "metadata": {
            "tags": []
          },
          "execution_count": 171
        }
      ]
    },
    {
      "cell_type": "code",
      "metadata": {
        "id": "OOXOtL5HC6JK",
        "colab_type": "code",
        "colab": {}
      },
      "source": [
        "for column in emotionsData:\n",
        "  if column == 1:\n",
        "    print(column, word, ': anger')"
      ],
      "execution_count": 0,
      "outputs": []
    },
    {
      "cell_type": "code",
      "metadata": {
        "id": "eZU1ky_Xd8aC",
        "colab_type": "code",
        "outputId": "42342f4a-818c-48e2-e710-c7dbed409063",
        "colab": {
          "base_uri": "https://localhost:8080/",
          "height": 177
        }
      },
      "source": [
        "first = emotionsData.loc['abandoned']\n",
        "first"
      ],
      "execution_count": 0,
      "outputs": [
        {
          "output_type": "execute_result",
          "data": {
            "text/plain": [
              "Anger           1\n",
              "Anticipation    0\n",
              "Disgust         0\n",
              "Fear            1\n",
              "Joy             0\n",
              "Sadness         1\n",
              "Surprise        0\n",
              "Trust           0\n",
              "Name: abandoned, dtype: int64"
            ]
          },
          "metadata": {
            "tags": []
          },
          "execution_count": 141
        }
      ]
    },
    {
      "cell_type": "code",
      "metadata": {
        "id": "f7lCH7LOfI0z",
        "colab_type": "code",
        "colab": {}
      },
      "source": [
        "df = pd.DataFrame(emotionsData)"
      ],
      "execution_count": 0,
      "outputs": []
    },
    {
      "cell_type": "code",
      "metadata": {
        "id": "Dbs5YZ9Af8cI",
        "colab_type": "code",
        "colab": {}
      },
      "source": [
        "for i in df.itertuples():\n",
        "  print(i)"
      ],
      "execution_count": 0,
      "outputs": []
    },
    {
      "cell_type": "code",
      "metadata": {
        "id": "lEOsy-0DfohL",
        "colab_type": "code",
        "colab": {}
      },
      "source": [
        "for i, j in df.iterrows():\n",
        "  print(i, j)"
      ],
      "execution_count": 0,
      "outputs": []
    },
    {
      "cell_type": "code",
      "metadata": {
        "id": "1WprR1clh3en",
        "colab_type": "code",
        "colab": {}
      },
      "source": [
        "for ind in df.index:\n",
        "  print(df.loc[i, 'words'])"
      ],
      "execution_count": 0,
      "outputs": []
    },
    {
      "cell_type": "code",
      "metadata": {
        "id": "LeR0K62mguXy",
        "colab_type": "code",
        "colab": {}
      },
      "source": [
        "for col in df:\n",
        "  if col == 'anger':\n",
        "    continue\n",
        "  if col == 'anticipation':\n",
        "    continue\n",
        "  if col == 'disgust':\n",
        "    continue\n",
        "  if col == 'fear':\n",
        "    continue"
      ],
      "execution_count": 0,
      "outputs": []
    },
    {
      "cell_type": "code",
      "metadata": {
        "id": "cM0UOvwEeahj",
        "colab_type": "code",
        "colab": {}
      },
      "source": [
        "sentence = \"I felt abandoned\""
      ],
      "execution_count": 0,
      "outputs": []
    },
    {
      "cell_type": "code",
      "metadata": {
        "id": "9yiZsGivefLL",
        "colab_type": "code",
        "colab": {}
      },
      "source": [
        "new = sentence.split()\n",
        "for word in new:\n",
        "  if word :\n",
        "    print(word)\n",
        "  else: pass"
      ],
      "execution_count": 0,
      "outputs": []
    },
    {
      "cell_type": "code",
      "metadata": {
        "id": "1CH-MBR8cq6s",
        "colab_type": "code",
        "outputId": "1ab2a1e9-4a55-4aa6-fd59-1fdd0f9236dd",
        "colab": {
          "base_uri": "https://localhost:8080/",
          "height": 230
        }
      },
      "source": [
        "for word in 'English (en)':\n",
        "  print(anger, anticipation, disgust, fear, joy, sadness, surprise, trust)"
      ],
      "execution_count": 0,
      "outputs": [
        {
          "output_type": "stream",
          "text": [
            "0 0 0 0 0 0 0 0\n",
            "0 0 0 0 0 0 0 0\n",
            "0 0 0 0 0 0 0 0\n",
            "0 0 0 0 0 0 0 0\n",
            "0 0 0 0 0 0 0 0\n",
            "0 0 0 0 0 0 0 0\n",
            "0 0 0 0 0 0 0 0\n",
            "0 0 0 0 0 0 0 0\n",
            "0 0 0 0 0 0 0 0\n",
            "0 0 0 0 0 0 0 0\n",
            "0 0 0 0 0 0 0 0\n",
            "0 0 0 0 0 0 0 0\n"
          ],
          "name": "stdout"
        }
      ]
    },
    {
      "cell_type": "code",
      "metadata": {
        "id": "I6ESUMpwQP6T",
        "colab_type": "code",
        "outputId": "4e3306aa-8d6a-4a4e-c5e8-1b30ec81d19e",
        "colab": {
          "base_uri": "https://localhost:8080/",
          "height": 35
        }
      },
      "source": [
        "print('Opening workbook...')"
      ],
      "execution_count": 0,
      "outputs": [
        {
          "output_type": "stream",
          "text": [
            "Opening workbook...\n"
          ],
          "name": "stdout"
        }
      ]
    },
    {
      "cell_type": "code",
      "metadata": {
        "id": "wscaWOMz_xzj",
        "colab_type": "code",
        "colab": {}
      },
      "source": [
        "dataframe = pd.DataFrame(df, columns = ['Anger', 'Anticipation', 'Disgust', 'Fear', 'Joy', 'Sadness', 'Surprise', 'Trust'])"
      ],
      "execution_count": 0,
      "outputs": []
    },
    {
      "cell_type": "code",
      "metadata": {
        "id": "k33GWr8sCTOJ",
        "colab_type": "code",
        "outputId": "54d8ed4b-fe5a-4597-dea0-8a3a1fd785a8",
        "colab": {
          "base_uri": "https://localhost:8080/",
          "height": 88
        }
      },
      "source": [
        "sent = \"I have been abandoned\"\n",
        "sentence = sent.split()\n",
        "for word in sentence:\n",
        "  if word in conDFanger == 1:\n",
        "   #  if conDFanger == 0:\n",
        "    print(word)\n",
        "  else:\n",
        "    print(\"Word has no value\")"
      ],
      "execution_count": 0,
      "outputs": [
        {
          "output_type": "stream",
          "text": [
            "Word has no value\n",
            "Word has no value\n",
            "Word has no value\n",
            "Word has no value\n"
          ],
          "name": "stdout"
        }
      ]
    },
    {
      "cell_type": "code",
      "metadata": {
        "id": "LUx8YWapjWSd",
        "colab_type": "code",
        "colab": {}
      },
      "source": [
        "conDFanger = dataframe[dataframe['Anger'] == 1]\n",
        "conDFanticipation = dataframe[dataframe['Anticipation'] == 1]\n",
        "conDFdisgust = dataframe[dataframe['Disgust'] == 1]\n",
        "conDFfear = dataframe[dataframe['Fear'] == 1]\n",
        "conDFjoy = dataframe[dataframe['Joy'] == 1]\n",
        "conDFsadness = dataframe[dataframe['Sadness'] == 1]\n",
        "conDFsurprise = dataframe[dataframe['Surprise'] == 1]\n",
        "conDFtrust = dataframe[dataframe['Trust'] == 1]"
      ],
      "execution_count": 0,
      "outputs": []
    },
    {
      "cell_type": "code",
      "metadata": {
        "id": "woFl1RD7AhO-",
        "colab_type": "code",
        "outputId": "26b84a0f-756e-4960-97f1-f9827175c95b",
        "colab": {
          "base_uri": "https://localhost:8080/",
          "height": 552
        }
      },
      "source": [
        "print(conDFanger, conDFanticipation)"
      ],
      "execution_count": 0,
      "outputs": [
        {
          "output_type": "stream",
          "text": [
            "             Anger  Anticipation  Disgust  Fear  Joy  Sadness  Surprise  Trust\n",
            "words                                                                         \n",
            "abandoned        1             0        0     1    0        1         0      0\n",
            "abandonment      1             0        0     1    0        1         1      0\n",
            "abhor            1             0        1     1    0        0         0      0\n",
            "abhorrent        1             0        1     1    0        0         0      0\n",
            "abolish          1             0        0     0    0        0         0      0\n",
            "...            ...           ...      ...   ...  ...      ...       ...    ...\n",
            "wrongful         1             0        1     0    0        1         0      0\n",
            "wrongly          1             0        0     1    0        1         0      0\n",
            "yell             1             0        0     1    0        0         1      0\n",
            "yelp             1             0        0     1    0        0         1      0\n",
            "youth            1             1        0     1    1        0         1      0\n",
            "\n",
            "[1247 rows x 8 columns]                Anger  Anticipation  Disgust  ...  Sadness  Surprise  Trust\n",
            "words                                        ...                          \n",
            "abundance          0             1        1  ...        0         0      1\n",
            "accelerate         0             1        0  ...        0         0      0\n",
            "accolade           0             1        0  ...        0         1      1\n",
            "accompaniment      0             1        0  ...        0         0      1\n",
            "achievement        0             1        0  ...        0         0      1\n",
            "...              ...           ...      ...  ...      ...       ...    ...\n",
            "yearning           0             1        0  ...        0         0      1\n",
            "young              0             1        0  ...        0         1      0\n",
            "youth              1             1        0  ...        0         1      0\n",
            "zeal               0             1        0  ...        0         1      1\n",
            "zest               0             1        0  ...        0         0      1\n",
            "\n",
            "[839 rows x 8 columns]\n"
          ],
          "name": "stdout"
        }
      ]
    },
    {
      "cell_type": "code",
      "metadata": {
        "id": "rSq8wpVCB4AC",
        "colab_type": "code",
        "colab": {}
      },
      "source": [
        "sent = \"I have been abandoned\"\n",
        "sentence = sent.split()"
      ],
      "execution_count": 0,
      "outputs": []
    },
    {
      "cell_type": "code",
      "metadata": {
        "id": "HKv3vuZ_BNU4",
        "colab_type": "code",
        "outputId": "2b35f234-8665-44f2-9a8d-007d55dcbab2",
        "colab": {
          "base_uri": "https://localhost:8080/",
          "height": 88
        }
      },
      "source": [
        "for word in sentence:\n",
        "  if word in conDFanger == 1:\n",
        "   #  if conDFanger == 0:\n",
        "    print(word)\n",
        "  else:\n",
        "    print(\"Word has no value\")"
      ],
      "execution_count": 0,
      "outputs": [
        {
          "output_type": "stream",
          "text": [
            "Word has no value\n",
            "Word has no value\n",
            "Word has no value\n",
            "Word has no value\n"
          ],
          "name": "stdout"
        }
      ]
    },
    {
      "cell_type": "code",
      "metadata": {
        "id": "nQOZZqSbQP5P",
        "colab_type": "code",
        "colab": {}
      },
      "source": [
        " for row in range(2, 14183):\n",
        "  anger = sheet['B' + str(row)].value\n",
        "  anticipation = sheet['C' + str(row)].value\n",
        "  disgust = sheet['D' + str(row)].value\n",
        "  fear = sheet['E' + str(row)].value\n",
        "  joy = sheet['F' + str(row)].value\n",
        "  sadness = sheet['G' + str(row)].value\n",
        "  surprise = sheet['H' + str(row)].value\n",
        "  trust = sheet['I' + str(row)].value"
      ],
      "execution_count": 0,
      "outputs": []
    },
    {
      "cell_type": "code",
      "metadata": {
        "id": "SphMiD1ZQP00",
        "colab_type": "code",
        "colab": {}
      },
      "source": [
        "emotionsData['B'] = anger\n",
        "emotionsData['C'] = anticipation\n",
        "emotionsData['D'] = disgust\n",
        "emotionsData['E'] = fear\n",
        "emotionsData['F'] = joy\n",
        "emotionsData['G'] = sadness\n",
        "emotionsData['H'] = surprise\n",
        "emotionsData['I'] = trust"
      ],
      "execution_count": 0,
      "outputs": []
    },
    {
      "cell_type": "code",
      "metadata": {
        "id": "AXStyYY6dZ7L",
        "colab_type": "code",
        "colab": {}
      },
      "source": [
        "for word in 'English (en)':\n",
        "  print(emotionsData)"
      ],
      "execution_count": 0,
      "outputs": []
    },
    {
      "cell_type": "code",
      "metadata": {
        "id": "Ali12yylb2Pz",
        "colab_type": "code",
        "outputId": "34ffb21a-6abd-4b9e-ca93-6ec46141a3e9",
        "colab": {
          "base_uri": "https://localhost:8080/",
          "height": 31
        }
      },
      "source": [
        "df"
      ],
      "execution_count": 0,
      "outputs": [
        {
          "output_type": "execute_result",
          "data": {
            "text/html": [
              "<div>\n",
              "<style scoped>\n",
              "    .dataframe tbody tr th:only-of-type {\n",
              "        vertical-align: middle;\n",
              "    }\n",
              "\n",
              "    .dataframe tbody tr th {\n",
              "        vertical-align: top;\n",
              "    }\n",
              "\n",
              "    .dataframe thead th {\n",
              "        text-align: right;\n",
              "    }\n",
              "</style>\n",
              "<table border=\"1\" class=\"dataframe\">\n",
              "  <thead>\n",
              "    <tr style=\"text-align: right;\">\n",
              "      <th></th>\n",
              "    </tr>\n",
              "  </thead>\n",
              "  <tbody>\n",
              "  </tbody>\n",
              "</table>\n",
              "</div>"
            ],
            "text/plain": [
              "Empty DataFrame\n",
              "Columns: []\n",
              "Index: []"
            ]
          },
          "metadata": {
            "tags": []
          },
          "execution_count": 85
        }
      ]
    },
    {
      "cell_type": "code",
      "metadata": {
        "id": "L0ETkalqQPtg",
        "colab_type": "code",
        "colab": {}
      },
      "source": [
        "#emotionsData[anger][anticipation][disgust]..."
      ],
      "execution_count": 0,
      "outputs": []
    },
    {
      "cell_type": "code",
      "metadata": {
        "id": "zPWpCrisWLzm",
        "colab_type": "code",
        "colab": {}
      },
      "source": [
        "sheet.max_row + 1"
      ],
      "execution_count": 0,
      "outputs": []
    },
    {
      "cell_type": "code",
      "metadata": {
        "id": "GmhOw6A3uVtP",
        "colab_type": "code",
        "colab": {}
      },
      "source": [
        "emotion = pd.read_csv('emotionlexicon-english.txt.xlsx', sep=\"\\t\", header=None)\n",
        "emotion.columns = ['word', 'emotion', 'value']"
      ],
      "execution_count": 0,
      "outputs": []
    },
    {
      "cell_type": "code",
      "metadata": {
        "id": "P7GyNO_quy8R",
        "colab_type": "code",
        "outputId": "a4b79f0f-85b1-46a9-dd89-54267d78c2b3",
        "colab": {
          "base_uri": "https://localhost:8080/",
          "height": 419
        }
      },
      "source": [
        "emotion"
      ],
      "execution_count": 0,
      "outputs": [
        {
          "output_type": "execute_result",
          "data": {
            "text/html": [
              "<div>\n",
              "<style scoped>\n",
              "    .dataframe tbody tr th:only-of-type {\n",
              "        vertical-align: middle;\n",
              "    }\n",
              "\n",
              "    .dataframe tbody tr th {\n",
              "        vertical-align: top;\n",
              "    }\n",
              "\n",
              "    .dataframe thead th {\n",
              "        text-align: right;\n",
              "    }\n",
              "</style>\n",
              "<table border=\"1\" class=\"dataframe\">\n",
              "  <thead>\n",
              "    <tr style=\"text-align: right;\">\n",
              "      <th></th>\n",
              "      <th>word</th>\n",
              "      <th>emotion</th>\n",
              "      <th>value</th>\n",
              "    </tr>\n",
              "  </thead>\n",
              "  <tbody>\n",
              "    <tr>\n",
              "      <th>0</th>\n",
              "      <td>aback</td>\n",
              "      <td>anger</td>\n",
              "      <td>0</td>\n",
              "    </tr>\n",
              "    <tr>\n",
              "      <th>1</th>\n",
              "      <td>aback</td>\n",
              "      <td>anticipation</td>\n",
              "      <td>0</td>\n",
              "    </tr>\n",
              "    <tr>\n",
              "      <th>2</th>\n",
              "      <td>aback</td>\n",
              "      <td>disgust</td>\n",
              "      <td>0</td>\n",
              "    </tr>\n",
              "    <tr>\n",
              "      <th>3</th>\n",
              "      <td>aback</td>\n",
              "      <td>fear</td>\n",
              "      <td>0</td>\n",
              "    </tr>\n",
              "    <tr>\n",
              "      <th>4</th>\n",
              "      <td>aback</td>\n",
              "      <td>joy</td>\n",
              "      <td>0</td>\n",
              "    </tr>\n",
              "    <tr>\n",
              "      <th>...</th>\n",
              "      <td>...</td>\n",
              "      <td>...</td>\n",
              "      <td>...</td>\n",
              "    </tr>\n",
              "    <tr>\n",
              "      <th>141815</th>\n",
              "      <td>zoom</td>\n",
              "      <td>negative</td>\n",
              "      <td>0</td>\n",
              "    </tr>\n",
              "    <tr>\n",
              "      <th>141816</th>\n",
              "      <td>zoom</td>\n",
              "      <td>positive</td>\n",
              "      <td>0</td>\n",
              "    </tr>\n",
              "    <tr>\n",
              "      <th>141817</th>\n",
              "      <td>zoom</td>\n",
              "      <td>sadness</td>\n",
              "      <td>0</td>\n",
              "    </tr>\n",
              "    <tr>\n",
              "      <th>141818</th>\n",
              "      <td>zoom</td>\n",
              "      <td>surprise</td>\n",
              "      <td>0</td>\n",
              "    </tr>\n",
              "    <tr>\n",
              "      <th>141819</th>\n",
              "      <td>zoom</td>\n",
              "      <td>trust</td>\n",
              "      <td>0</td>\n",
              "    </tr>\n",
              "  </tbody>\n",
              "</table>\n",
              "<p>141820 rows × 3 columns</p>\n",
              "</div>"
            ],
            "text/plain": [
              "         word       emotion  value\n",
              "0       aback         anger      0\n",
              "1       aback  anticipation      0\n",
              "2       aback       disgust      0\n",
              "3       aback          fear      0\n",
              "4       aback           joy      0\n",
              "...       ...           ...    ...\n",
              "141815   zoom      negative      0\n",
              "141816   zoom      positive      0\n",
              "141817   zoom       sadness      0\n",
              "141818   zoom      surprise      0\n",
              "141819   zoom         trust      0\n",
              "\n",
              "[141820 rows x 3 columns]"
            ]
          },
          "metadata": {
            "tags": []
          },
          "execution_count": 19
        }
      ]
    },
    {
      "cell_type": "code",
      "metadata": {
        "id": "CLiZ0JF0NSFs",
        "colab_type": "code",
        "outputId": "d2b4d7b7-93c3-4739-d012-38b0e63ab4b9",
        "colab": {
          "base_uri": "https://localhost:8080/",
          "height": 169
        }
      },
      "source": [
        "emotion[5]"
      ],
      "execution_count": 0,
      "outputs": [
        {
          "output_type": "error",
          "ename": "NameError",
          "evalue": "ignored",
          "traceback": [
            "\u001b[0;31m---------------------------------------------------------------------------\u001b[0m",
            "\u001b[0;31mNameError\u001b[0m                                 Traceback (most recent call last)",
            "\u001b[0;32m<ipython-input-1-e98d72d5e36a>\u001b[0m in \u001b[0;36m<module>\u001b[0;34m()\u001b[0m\n\u001b[0;32m----> 1\u001b[0;31m \u001b[0memotion\u001b[0m\u001b[0;34m[\u001b[0m\u001b[0;36m5\u001b[0m\u001b[0;34m]\u001b[0m\u001b[0;34m\u001b[0m\u001b[0;34m\u001b[0m\u001b[0m\n\u001b[0m",
            "\u001b[0;31mNameError\u001b[0m: name 'emotion' is not defined"
          ]
        }
      ]
    },
    {
      "cell_type": "markdown",
      "metadata": {
        "id": "OzdQwMGBu27P",
        "colab_type": "text"
      },
      "source": [
        "look at package pandas for python"
      ]
    },
    {
      "cell_type": "code",
      "metadata": {
        "id": "JjNiUqHqYl2Q",
        "colab_type": "code",
        "colab": {}
      },
      "source": [
        ""
      ],
      "execution_count": 0,
      "outputs": []
    }
  ]
}
